{
 "cells": [
  {
   "cell_type": "markdown",
   "metadata": {},
   "source": [
    "# ZOMATO Restaurant Ratings Prediction\n",
    "\n",
    "## Problem Statement:\n",
    "Zomato is an Indian based restaurant search and discovery platform which is currently operating in more than 24 countries. It primarily provides user reviews/ratings and information on restaurants, including images and menu.Zomato restaurant rating prediction would enable the company to provide better recommendation and target advertisements to its users and restaurants. This would be very useful for the restaurants and the foodie"
   ]
  },
  {
   "cell_type": "markdown",
   "metadata": {},
   "source": [
    "\n",
    "### Contents:\n",
    "[Pre-Work](#pre)\n",
    "### [Part I: Data Gathering](#Part-I-DATA-GATHERING)\n",
    "&emsp;&emsp;&emsp;&emsp;&emsp;&emsp;&emsp;[Load Data](#load)\n",
    "<br>&emsp;&emsp;&emsp;&emsp;&emsp;&emsp;&emsp;[Split Data](#split)\n",
    "### [Part II: Exploratory Data Anlaysis](#eda1)\n",
    "### [Part III: Data Preprocessing](#part3)\n",
    "&emsp;&emsp;&emsp;&emsp;&emsp;&emsp;&emsp;[Drop Insignificant Features](#drop)\n",
    "<br>&emsp;&emsp;&emsp;&emsp;&emsp;&emsp;&emsp;[Find Insignificant Features using StatsModel](#stats)\n",
    "<br>&emsp;&emsp;&emsp;&emsp;&emsp;&emsp;&emsp;[Feature Engineering](#feature)\n",
    "<br>&emsp;&emsp;&emsp;&emsp;&emsp;&emsp;&emsp;[Treat Categorical Columns](#cat)\n",
    "<br>&emsp;&emsp;&emsp;&emsp;&emsp;&emsp;&emsp;[Treat Numerical Columns](#num)\n",
    "<br>&emsp;&emsp;&emsp;&emsp;&emsp;&emsp;&emsp;[Impute NULLS](#nulls)\n",
    "### [Part IV: Machine Learning](#ml)\n",
    "&emsp;&emsp;&emsp;&emsp;&emsp;&emsp;&emsp;[Baseline Models](#baseline)\n",
    "<br>&emsp;&emsp;&emsp;&emsp;&emsp;&emsp;&emsp;[Evaluation & Model Comparision](#eval)\n",
    "<br>&emsp;&emsp;&emsp;&emsp;&emsp;&emsp;&emsp;[Parameter Tuning](#param)\n",
    "<br>&emsp;&emsp;&emsp;&emsp;&emsp;&emsp;&emsp;[Final Models](#final)\n",
    "<br>&emsp;&emsp;&emsp;&emsp;&emsp;&emsp;&emsp;[Prediction](#preds)\n",
    "#### [Exploratory Data Analysis](#eda)\n",
    "#### [References](#ref)"
   ]
  },
  {
   "cell_type": "markdown",
   "metadata": {},
   "source": [
    "<a id=\"pre\"></a>\n",
    "## Pre-work - Import Essential Libraries"
   ]
  },
  {
   "cell_type": "code",
   "execution_count": 87,
   "metadata": {},
   "outputs": [],
   "source": [
    "#basic essential libraries\n",
    "import pandas as pd\n",
    "import numpy as np\n",
    "import scipy as sp\n",
    "import sklearn as sk\n",
    "import random\n",
    "import string\n",
    "#common model algorithms\n",
    "from sklearn import tree\n",
    "from sklearn.ensemble import RandomForestRegressor, GradientBoostingRegressor, AdaBoostRegressor\n",
    "from xgboost import XGBRegressor\n",
    "from sklearn.linear_model import Lasso,  LinearRegression, RidgeCV\n",
    "#statsmodel\n",
    "import statsmodels.api as sm\n",
    "from scipy import stats\n",
    "#for data preprocessing and other sampling techniques\n",
    "from sklearn.utils import resample\n",
    "from sklearn.preprocessing import StandardScaler, LabelEncoder\n",
    "#evaluation metrics and tuning models\n",
    "from sklearn.model_selection import train_test_split, GridSearchCV, cross_val_score\n",
    "from sklearn.metrics import mean_squared_error, r2_score, mean_absolute_error\n",
    "#to ignore warning messages\n",
    "import warnings\n",
    "warnings.filterwarnings('ignore')\n",
    "from subprocess import check_output"
   ]
  },
  {
   "cell_type": "code",
   "execution_count": 2,
   "metadata": {},
   "outputs": [],
   "source": [
    "#Data visualization\n",
    "import matplotlib as mpl\n",
    "import matplotlib.pyplot as plt\n",
    "import matplotlib.pylab as pylab\n",
    "import seaborn as sns\n",
    "\n",
    "#set visual parameters\n",
    "%matplotlib inline\n",
    "mpl.style.use('ggplot')\n",
    "sns.set_style('white')\n",
    "pylab.rcParams['figure.figsize'] = 10,6"
   ]
  },
  {
   "cell_type": "code",
   "execution_count": 3,
   "metadata": {},
   "outputs": [],
   "source": [
    "#for printing in bold style\n",
    "from IPython.display import Markdown, display\n",
    "def printmd(string):\n",
    "    display(Markdown(string))"
   ]
  },
  {
   "cell_type": "code",
   "execution_count": 4,
   "metadata": {},
   "outputs": [],
   "source": [
    "#set path for working directory\n",
    "PATH = \"C:/Users/kpunyakoti/Desktop/Data Science/PGPDM/Graded Assignments/UC-3rd Module/Group Assignment/\"  "
   ]
  },
  {
   "cell_type": "markdown",
   "metadata": {},
   "source": [
    "# Part I DATA GATHERING"
   ]
  },
  {
   "cell_type": "markdown",
   "metadata": {},
   "source": [
    "<a id=\"load\"></a>\n",
    "## 1. Load Data"
   ]
  },
  {
   "cell_type": "code",
   "execution_count": 93,
   "metadata": {},
   "outputs": [
    {
     "name": "stdout",
     "output_type": "stream",
     "text": [
      "Dataset Shape: (24026, 39)\n"
     ]
    }
   ],
   "source": [
    "zom = pd.read_csv(f'{PATH}train.csv')\n",
    "train = zom.copy()\n",
    "print(\"Dataset Shape:\", zom.shape)"
   ]
  },
  {
   "cell_type": "code",
   "execution_count": 94,
   "metadata": {},
   "outputs": [],
   "source": [
    "#Separate dependant variable\n",
    "y_train = zom['Zomato_user_rating']"
   ]
  },
  {
   "cell_type": "code",
   "execution_count": 95,
   "metadata": {},
   "outputs": [],
   "source": [
    "#drop the dependant variable from the dataset\n",
    "train.drop(['Zomato_user_rating'], axis=1, inplace=True)"
   ]
  },
  {
   "cell_type": "markdown",
   "metadata": {},
   "source": [
    "<a id=\"split\"></a>\n",
    "## 2. Split Data\n",
    "As a best practice, we will split the dataset just after loading it."
   ]
  },
  {
   "cell_type": "code",
   "execution_count": 96,
   "metadata": {},
   "outputs": [],
   "source": [
    "train_x, test_x, train_y, test_y = train_test_split(train, y_train, test_size = 0.2, random_state = 32)"
   ]
  },
  {
   "cell_type": "code",
   "execution_count": 21,
   "metadata": {},
   "outputs": [
    {
     "data": {
      "text/html": [
       "<div>\n",
       "<style scoped>\n",
       "    .dataframe tbody tr th:only-of-type {\n",
       "        vertical-align: middle;\n",
       "    }\n",
       "\n",
       "    .dataframe tbody tr th {\n",
       "        vertical-align: top;\n",
       "    }\n",
       "\n",
       "    .dataframe thead th {\n",
       "        text-align: right;\n",
       "    }\n",
       "</style>\n",
       "<table border=\"1\" class=\"dataframe\">\n",
       "  <thead>\n",
       "    <tr style=\"text-align: right;\">\n",
       "      <th></th>\n",
       "      <th>id</th>\n",
       "      <th>average_cost_for_two</th>\n",
       "      <th>book_url</th>\n",
       "      <th>cuisines</th>\n",
       "      <th>currency</th>\n",
       "      <th>establishment_types__establishment_type__id</th>\n",
       "      <th>establishment_types__establishment_type__name</th>\n",
       "      <th>featured_image</th>\n",
       "      <th>has_online_delivery</th>\n",
       "      <th>has_table_booking</th>\n",
       "      <th>...</th>\n",
       "      <th>opentable_support</th>\n",
       "      <th>price_range</th>\n",
       "      <th>switch_to_order_menu</th>\n",
       "      <th>thumb</th>\n",
       "      <th>user_rating__custom_rating_text</th>\n",
       "      <th>user_rating__custom_rating_text_background</th>\n",
       "      <th>user_rating__rating_text</th>\n",
       "      <th>user_rating__rating_tool_tip</th>\n",
       "      <th>user_rating__votes</th>\n",
       "      <th>zomato_events</th>\n",
       "    </tr>\n",
       "  </thead>\n",
       "  <tbody>\n",
       "    <tr>\n",
       "      <th>11142</th>\n",
       "      <td>14972</td>\n",
       "      <td>250</td>\n",
       "      <td>NaN</td>\n",
       "      <td>Latin American</td>\n",
       "      <td>R</td>\n",
       "      <td>16</td>\n",
       "      <td>Casual Dining</td>\n",
       "      <td>NaN</td>\n",
       "      <td>0</td>\n",
       "      <td>0</td>\n",
       "      <td>...</td>\n",
       "      <td>0.0</td>\n",
       "      <td>3</td>\n",
       "      <td>0</td>\n",
       "      <td>NaN</td>\n",
       "      <td>NaN</td>\n",
       "      <td>NaN</td>\n",
       "      <td>Very Good</td>\n",
       "      <td>NaN</td>\n",
       "      <td>219</td>\n",
       "      <td>NaN</td>\n",
       "    </tr>\n",
       "    <tr>\n",
       "      <th>4546</th>\n",
       "      <td>6172</td>\n",
       "      <td>40</td>\n",
       "      <td>NaN</td>\n",
       "      <td>Desserts, Bakery, Ice Cream</td>\n",
       "      <td>$</td>\n",
       "      <td>23</td>\n",
       "      <td>Dessert Parlour</td>\n",
       "      <td>NaN</td>\n",
       "      <td>0</td>\n",
       "      <td>0</td>\n",
       "      <td>...</td>\n",
       "      <td>0.0</td>\n",
       "      <td>3</td>\n",
       "      <td>0</td>\n",
       "      <td>NaN</td>\n",
       "      <td>NaN</td>\n",
       "      <td>NaN</td>\n",
       "      <td>Average</td>\n",
       "      <td>NaN</td>\n",
       "      <td>2</td>\n",
       "      <td>NaN</td>\n",
       "    </tr>\n",
       "    <tr>\n",
       "      <th>13379</th>\n",
       "      <td>17899</td>\n",
       "      <td>60</td>\n",
       "      <td>NaN</td>\n",
       "      <td>Finger Food</td>\n",
       "      <td>NZ$</td>\n",
       "      <td>5</td>\n",
       "      <td>Lounge</td>\n",
       "      <td>https://b.zmtcdn.com/data/pictures/7/7003607/2...</td>\n",
       "      <td>0</td>\n",
       "      <td>0</td>\n",
       "      <td>...</td>\n",
       "      <td>0.0</td>\n",
       "      <td>3</td>\n",
       "      <td>0</td>\n",
       "      <td>https://b.zmtcdn.com/data/pictures/7/7003607/2...</td>\n",
       "      <td>NaN</td>\n",
       "      <td>NaN</td>\n",
       "      <td>Average</td>\n",
       "      <td>NaN</td>\n",
       "      <td>7</td>\n",
       "      <td>NaN</td>\n",
       "    </tr>\n",
       "    <tr>\n",
       "      <th>6046</th>\n",
       "      <td>8183</td>\n",
       "      <td>5000</td>\n",
       "      <td>NaN</td>\n",
       "      <td>Italian, Seafood, Desserts</td>\n",
       "      <td>LKR</td>\n",
       "      <td>18</td>\n",
       "      <td>Fine Dining</td>\n",
       "      <td>https://b.zmtcdn.com/data/res_imagery/5800678_...</td>\n",
       "      <td>0</td>\n",
       "      <td>0</td>\n",
       "      <td>...</td>\n",
       "      <td>0.0</td>\n",
       "      <td>4</td>\n",
       "      <td>0</td>\n",
       "      <td>https://b.zmtcdn.com/data/res_imagery/5800678_...</td>\n",
       "      <td>NaN</td>\n",
       "      <td>NaN</td>\n",
       "      <td>Very Good</td>\n",
       "      <td>NaN</td>\n",
       "      <td>165</td>\n",
       "      <td>NaN</td>\n",
       "    </tr>\n",
       "  </tbody>\n",
       "</table>\n",
       "<p>4 rows × 38 columns</p>\n",
       "</div>"
      ],
      "text/plain": [
       "          id  average_cost_for_two book_url                     cuisines  \\\n",
       "11142  14972                   250      NaN               Latin American   \n",
       "4546    6172                    40      NaN  Desserts, Bakery, Ice Cream   \n",
       "13379  17899                    60      NaN                  Finger Food   \n",
       "6046    8183                  5000      NaN   Italian, Seafood, Desserts   \n",
       "\n",
       "      currency  establishment_types__establishment_type__id  \\\n",
       "11142        R                                           16   \n",
       "4546         $                                           23   \n",
       "13379      NZ$                                            5   \n",
       "6046       LKR                                           18   \n",
       "\n",
       "      establishment_types__establishment_type__name  \\\n",
       "11142                                 Casual Dining   \n",
       "4546                                Dessert Parlour   \n",
       "13379                                        Lounge   \n",
       "6046                                    Fine Dining   \n",
       "\n",
       "                                          featured_image  has_online_delivery  \\\n",
       "11142                                                NaN                    0   \n",
       "4546                                                 NaN                    0   \n",
       "13379  https://b.zmtcdn.com/data/pictures/7/7003607/2...                    0   \n",
       "6046   https://b.zmtcdn.com/data/res_imagery/5800678_...                    0   \n",
       "\n",
       "       has_table_booking      ...        opentable_support  price_range  \\\n",
       "11142                  0      ...                      0.0            3   \n",
       "4546                   0      ...                      0.0            3   \n",
       "13379                  0      ...                      0.0            3   \n",
       "6046                   0      ...                      0.0            4   \n",
       "\n",
       "       switch_to_order_menu  \\\n",
       "11142                     0   \n",
       "4546                      0   \n",
       "13379                     0   \n",
       "6046                      0   \n",
       "\n",
       "                                                   thumb  \\\n",
       "11142                                                NaN   \n",
       "4546                                                 NaN   \n",
       "13379  https://b.zmtcdn.com/data/pictures/7/7003607/2...   \n",
       "6046   https://b.zmtcdn.com/data/res_imagery/5800678_...   \n",
       "\n",
       "       user_rating__custom_rating_text  \\\n",
       "11142                              NaN   \n",
       "4546                               NaN   \n",
       "13379                              NaN   \n",
       "6046                               NaN   \n",
       "\n",
       "      user_rating__custom_rating_text_background user_rating__rating_text  \\\n",
       "11142                                        NaN                Very Good   \n",
       "4546                                         NaN                  Average   \n",
       "13379                                        NaN                  Average   \n",
       "6046                                         NaN                Very Good   \n",
       "\n",
       "       user_rating__rating_tool_tip  user_rating__votes  zomato_events  \n",
       "11142                           NaN                 219            NaN  \n",
       "4546                            NaN                   2            NaN  \n",
       "13379                           NaN                   7            NaN  \n",
       "6046                            NaN                 165            NaN  \n",
       "\n",
       "[4 rows x 38 columns]"
      ]
     },
     "execution_count": 21,
     "metadata": {},
     "output_type": "execute_result"
    }
   ],
   "source": [
    "train_x.head(4)"
   ]
  },
  {
   "cell_type": "code",
   "execution_count": 10,
   "metadata": {},
   "outputs": [
    {
     "data": {
      "text/html": [
       "<div>\n",
       "<style scoped>\n",
       "    .dataframe tbody tr th:only-of-type {\n",
       "        vertical-align: middle;\n",
       "    }\n",
       "\n",
       "    .dataframe tbody tr th {\n",
       "        vertical-align: top;\n",
       "    }\n",
       "\n",
       "    .dataframe thead th {\n",
       "        text-align: right;\n",
       "    }\n",
       "</style>\n",
       "<table border=\"1\" class=\"dataframe\">\n",
       "  <thead>\n",
       "    <tr style=\"text-align: right;\">\n",
       "      <th></th>\n",
       "      <th>id</th>\n",
       "      <th>average_cost_for_two</th>\n",
       "      <th>book_url</th>\n",
       "      <th>cuisines</th>\n",
       "      <th>No of cuisines</th>\n",
       "      <th>currency</th>\n",
       "      <th>establishment_types__establishment_type__id</th>\n",
       "      <th>establishment_types__establishment_type__name</th>\n",
       "      <th>featured_image</th>\n",
       "      <th>has_online_delivery</th>\n",
       "      <th>...</th>\n",
       "      <th>opentable_support</th>\n",
       "      <th>price_range</th>\n",
       "      <th>switch_to_order_menu</th>\n",
       "      <th>thumb</th>\n",
       "      <th>user_rating__custom_rating_text</th>\n",
       "      <th>user_rating__custom_rating_text_background</th>\n",
       "      <th>user_rating__rating_text</th>\n",
       "      <th>user_rating__rating_tool_tip</th>\n",
       "      <th>user_rating__votes</th>\n",
       "      <th>zomato_events</th>\n",
       "    </tr>\n",
       "  </thead>\n",
       "  <tbody>\n",
       "    <tr>\n",
       "      <th>count</th>\n",
       "      <td>19220.000000</td>\n",
       "      <td>1.922000e+04</td>\n",
       "      <td>425</td>\n",
       "      <td>19214</td>\n",
       "      <td>0.0</td>\n",
       "      <td>19151</td>\n",
       "      <td>19220.000000</td>\n",
       "      <td>19220</td>\n",
       "      <td>11500</td>\n",
       "      <td>19220.000000</td>\n",
       "      <td>...</td>\n",
       "      <td>19201.0</td>\n",
       "      <td>19220.000000</td>\n",
       "      <td>19220.0</td>\n",
       "      <td>11500</td>\n",
       "      <td>236</td>\n",
       "      <td>236</td>\n",
       "      <td>19220</td>\n",
       "      <td>236</td>\n",
       "      <td>19220.000000</td>\n",
       "      <td>396</td>\n",
       "    </tr>\n",
       "    <tr>\n",
       "      <th>unique</th>\n",
       "      <td>NaN</td>\n",
       "      <td>NaN</td>\n",
       "      <td>425</td>\n",
       "      <td>4385</td>\n",
       "      <td>NaN</td>\n",
       "      <td>16</td>\n",
       "      <td>NaN</td>\n",
       "      <td>23</td>\n",
       "      <td>10037</td>\n",
       "      <td>NaN</td>\n",
       "      <td>...</td>\n",
       "      <td>NaN</td>\n",
       "      <td>NaN</td>\n",
       "      <td>NaN</td>\n",
       "      <td>9909</td>\n",
       "      <td>1</td>\n",
       "      <td>1</td>\n",
       "      <td>38</td>\n",
       "      <td>1</td>\n",
       "      <td>NaN</td>\n",
       "      <td>369</td>\n",
       "    </tr>\n",
       "    <tr>\n",
       "      <th>top</th>\n",
       "      <td>NaN</td>\n",
       "      <td>NaN</td>\n",
       "      <td>https://www.zomato.com/abudhabi/rosewater-jume...</td>\n",
       "      <td>Cafe</td>\n",
       "      <td>NaN</td>\n",
       "      <td>Rs.</td>\n",
       "      <td>NaN</td>\n",
       "      <td>Quick Bites</td>\n",
       "      <td>https://b.zmtcdn.com/data/res_imagery/16500071...</td>\n",
       "      <td>NaN</td>\n",
       "      <td>...</td>\n",
       "      <td>NaN</td>\n",
       "      <td>NaN</td>\n",
       "      <td>NaN</td>\n",
       "      <td>https://b.zmtcdn.com/data/res_imagery/16500071...</td>\n",
       "      <td>NEW</td>\n",
       "      <td>#89959B</td>\n",
       "      <td>Good</td>\n",
       "      <td>This restaurant is newly opened. The rating wi...</td>\n",
       "      <td>NaN</td>\n",
       "      <td>[{'event': {'event_id': 235760, 'friendly_star...</td>\n",
       "    </tr>\n",
       "    <tr>\n",
       "      <th>freq</th>\n",
       "      <td>NaN</td>\n",
       "      <td>NaN</td>\n",
       "      <td>1</td>\n",
       "      <td>1050</td>\n",
       "      <td>NaN</td>\n",
       "      <td>2331</td>\n",
       "      <td>NaN</td>\n",
       "      <td>2627</td>\n",
       "      <td>35</td>\n",
       "      <td>NaN</td>\n",
       "      <td>...</td>\n",
       "      <td>NaN</td>\n",
       "      <td>NaN</td>\n",
       "      <td>NaN</td>\n",
       "      <td>38</td>\n",
       "      <td>236</td>\n",
       "      <td>236</td>\n",
       "      <td>6033</td>\n",
       "      <td>236</td>\n",
       "      <td>NaN</td>\n",
       "      <td>10</td>\n",
       "    </tr>\n",
       "    <tr>\n",
       "      <th>mean</th>\n",
       "      <td>16082.079917</td>\n",
       "      <td>1.092743e+04</td>\n",
       "      <td>NaN</td>\n",
       "      <td>NaN</td>\n",
       "      <td>NaN</td>\n",
       "      <td>NaN</td>\n",
       "      <td>25.336056</td>\n",
       "      <td>NaN</td>\n",
       "      <td>NaN</td>\n",
       "      <td>0.122008</td>\n",
       "      <td>...</td>\n",
       "      <td>0.0</td>\n",
       "      <td>2.463736</td>\n",
       "      <td>0.0</td>\n",
       "      <td>NaN</td>\n",
       "      <td>NaN</td>\n",
       "      <td>NaN</td>\n",
       "      <td>NaN</td>\n",
       "      <td>NaN</td>\n",
       "      <td>97.717170</td>\n",
       "      <td>NaN</td>\n",
       "    </tr>\n",
       "    <tr>\n",
       "      <th>std</th>\n",
       "      <td>9207.316783</td>\n",
       "      <td>6.889207e+04</td>\n",
       "      <td>NaN</td>\n",
       "      <td>NaN</td>\n",
       "      <td>NaN</td>\n",
       "      <td>NaN</td>\n",
       "      <td>49.439281</td>\n",
       "      <td>NaN</td>\n",
       "      <td>NaN</td>\n",
       "      <td>0.327304</td>\n",
       "      <td>...</td>\n",
       "      <td>0.0</td>\n",
       "      <td>1.041211</td>\n",
       "      <td>0.0</td>\n",
       "      <td>NaN</td>\n",
       "      <td>NaN</td>\n",
       "      <td>NaN</td>\n",
       "      <td>NaN</td>\n",
       "      <td>NaN</td>\n",
       "      <td>208.858739</td>\n",
       "      <td>NaN</td>\n",
       "    </tr>\n",
       "    <tr>\n",
       "      <th>min</th>\n",
       "      <td>0.000000</td>\n",
       "      <td>0.000000e+00</td>\n",
       "      <td>NaN</td>\n",
       "      <td>NaN</td>\n",
       "      <td>NaN</td>\n",
       "      <td>NaN</td>\n",
       "      <td>1.000000</td>\n",
       "      <td>NaN</td>\n",
       "      <td>NaN</td>\n",
       "      <td>0.000000</td>\n",
       "      <td>...</td>\n",
       "      <td>0.0</td>\n",
       "      <td>1.000000</td>\n",
       "      <td>0.0</td>\n",
       "      <td>NaN</td>\n",
       "      <td>NaN</td>\n",
       "      <td>NaN</td>\n",
       "      <td>NaN</td>\n",
       "      <td>NaN</td>\n",
       "      <td>0.000000</td>\n",
       "      <td>NaN</td>\n",
       "    </tr>\n",
       "    <tr>\n",
       "      <th>25%</th>\n",
       "      <td>8115.750000</td>\n",
       "      <td>3.500000e+01</td>\n",
       "      <td>NaN</td>\n",
       "      <td>NaN</td>\n",
       "      <td>NaN</td>\n",
       "      <td>NaN</td>\n",
       "      <td>6.000000</td>\n",
       "      <td>NaN</td>\n",
       "      <td>NaN</td>\n",
       "      <td>0.000000</td>\n",
       "      <td>...</td>\n",
       "      <td>0.0</td>\n",
       "      <td>2.000000</td>\n",
       "      <td>0.0</td>\n",
       "      <td>NaN</td>\n",
       "      <td>NaN</td>\n",
       "      <td>NaN</td>\n",
       "      <td>NaN</td>\n",
       "      <td>NaN</td>\n",
       "      <td>4.000000</td>\n",
       "      <td>NaN</td>\n",
       "    </tr>\n",
       "    <tr>\n",
       "      <th>50%</th>\n",
       "      <td>16124.500000</td>\n",
       "      <td>9.000000e+01</td>\n",
       "      <td>NaN</td>\n",
       "      <td>NaN</td>\n",
       "      <td>NaN</td>\n",
       "      <td>NaN</td>\n",
       "      <td>18.000000</td>\n",
       "      <td>NaN</td>\n",
       "      <td>NaN</td>\n",
       "      <td>0.000000</td>\n",
       "      <td>...</td>\n",
       "      <td>0.0</td>\n",
       "      <td>2.000000</td>\n",
       "      <td>0.0</td>\n",
       "      <td>NaN</td>\n",
       "      <td>NaN</td>\n",
       "      <td>NaN</td>\n",
       "      <td>NaN</td>\n",
       "      <td>NaN</td>\n",
       "      <td>24.000000</td>\n",
       "      <td>NaN</td>\n",
       "    </tr>\n",
       "    <tr>\n",
       "      <th>75%</th>\n",
       "      <td>23996.500000</td>\n",
       "      <td>4.000000e+02</td>\n",
       "      <td>NaN</td>\n",
       "      <td>NaN</td>\n",
       "      <td>NaN</td>\n",
       "      <td>NaN</td>\n",
       "      <td>23.000000</td>\n",
       "      <td>NaN</td>\n",
       "      <td>NaN</td>\n",
       "      <td>0.000000</td>\n",
       "      <td>...</td>\n",
       "      <td>0.0</td>\n",
       "      <td>3.000000</td>\n",
       "      <td>0.0</td>\n",
       "      <td>NaN</td>\n",
       "      <td>NaN</td>\n",
       "      <td>NaN</td>\n",
       "      <td>NaN</td>\n",
       "      <td>NaN</td>\n",
       "      <td>96.000000</td>\n",
       "      <td>NaN</td>\n",
       "    </tr>\n",
       "    <tr>\n",
       "      <th>max</th>\n",
       "      <td>31978.000000</td>\n",
       "      <td>3.500000e+06</td>\n",
       "      <td>NaN</td>\n",
       "      <td>NaN</td>\n",
       "      <td>NaN</td>\n",
       "      <td>NaN</td>\n",
       "      <td>292.000000</td>\n",
       "      <td>NaN</td>\n",
       "      <td>NaN</td>\n",
       "      <td>1.000000</td>\n",
       "      <td>...</td>\n",
       "      <td>0.0</td>\n",
       "      <td>4.000000</td>\n",
       "      <td>0.0</td>\n",
       "      <td>NaN</td>\n",
       "      <td>NaN</td>\n",
       "      <td>NaN</td>\n",
       "      <td>NaN</td>\n",
       "      <td>NaN</td>\n",
       "      <td>5376.000000</td>\n",
       "      <td>NaN</td>\n",
       "    </tr>\n",
       "  </tbody>\n",
       "</table>\n",
       "<p>11 rows × 39 columns</p>\n",
       "</div>"
      ],
      "text/plain": [
       "                  id  average_cost_for_two  \\\n",
       "count   19220.000000          1.922000e+04   \n",
       "unique           NaN                   NaN   \n",
       "top              NaN                   NaN   \n",
       "freq             NaN                   NaN   \n",
       "mean    16082.079917          1.092743e+04   \n",
       "std      9207.316783          6.889207e+04   \n",
       "min         0.000000          0.000000e+00   \n",
       "25%      8115.750000          3.500000e+01   \n",
       "50%     16124.500000          9.000000e+01   \n",
       "75%     23996.500000          4.000000e+02   \n",
       "max     31978.000000          3.500000e+06   \n",
       "\n",
       "                                                 book_url cuisines  \\\n",
       "count                                                 425    19214   \n",
       "unique                                                425     4385   \n",
       "top     https://www.zomato.com/abudhabi/rosewater-jume...     Cafe   \n",
       "freq                                                    1     1050   \n",
       "mean                                                  NaN      NaN   \n",
       "std                                                   NaN      NaN   \n",
       "min                                                   NaN      NaN   \n",
       "25%                                                   NaN      NaN   \n",
       "50%                                                   NaN      NaN   \n",
       "75%                                                   NaN      NaN   \n",
       "max                                                   NaN      NaN   \n",
       "\n",
       "        No of cuisines currency  establishment_types__establishment_type__id  \\\n",
       "count              0.0    19151                                 19220.000000   \n",
       "unique             NaN       16                                          NaN   \n",
       "top                NaN      Rs.                                          NaN   \n",
       "freq               NaN     2331                                          NaN   \n",
       "mean               NaN      NaN                                    25.336056   \n",
       "std                NaN      NaN                                    49.439281   \n",
       "min                NaN      NaN                                     1.000000   \n",
       "25%                NaN      NaN                                     6.000000   \n",
       "50%                NaN      NaN                                    18.000000   \n",
       "75%                NaN      NaN                                    23.000000   \n",
       "max                NaN      NaN                                   292.000000   \n",
       "\n",
       "       establishment_types__establishment_type__name  \\\n",
       "count                                          19220   \n",
       "unique                                            23   \n",
       "top                                      Quick Bites   \n",
       "freq                                            2627   \n",
       "mean                                             NaN   \n",
       "std                                              NaN   \n",
       "min                                              NaN   \n",
       "25%                                              NaN   \n",
       "50%                                              NaN   \n",
       "75%                                              NaN   \n",
       "max                                              NaN   \n",
       "\n",
       "                                           featured_image  \\\n",
       "count                                               11500   \n",
       "unique                                              10037   \n",
       "top     https://b.zmtcdn.com/data/res_imagery/16500071...   \n",
       "freq                                                   35   \n",
       "mean                                                  NaN   \n",
       "std                                                   NaN   \n",
       "min                                                   NaN   \n",
       "25%                                                   NaN   \n",
       "50%                                                   NaN   \n",
       "75%                                                   NaN   \n",
       "max                                                   NaN   \n",
       "\n",
       "        has_online_delivery  \\\n",
       "count          19220.000000   \n",
       "unique                  NaN   \n",
       "top                     NaN   \n",
       "freq                    NaN   \n",
       "mean               0.122008   \n",
       "std                0.327304   \n",
       "min                0.000000   \n",
       "25%                0.000000   \n",
       "50%                0.000000   \n",
       "75%                0.000000   \n",
       "max                1.000000   \n",
       "\n",
       "                              ...                          opentable_support  \\\n",
       "count                         ...                                    19201.0   \n",
       "unique                        ...                                        NaN   \n",
       "top                           ...                                        NaN   \n",
       "freq                          ...                                        NaN   \n",
       "mean                          ...                                        0.0   \n",
       "std                           ...                                        0.0   \n",
       "min                           ...                                        0.0   \n",
       "25%                           ...                                        0.0   \n",
       "50%                           ...                                        0.0   \n",
       "75%                           ...                                        0.0   \n",
       "max                           ...                                        0.0   \n",
       "\n",
       "         price_range  switch_to_order_menu  \\\n",
       "count   19220.000000               19220.0   \n",
       "unique           NaN                   NaN   \n",
       "top              NaN                   NaN   \n",
       "freq             NaN                   NaN   \n",
       "mean        2.463736                   0.0   \n",
       "std         1.041211                   0.0   \n",
       "min         1.000000                   0.0   \n",
       "25%         2.000000                   0.0   \n",
       "50%         2.000000                   0.0   \n",
       "75%         3.000000                   0.0   \n",
       "max         4.000000                   0.0   \n",
       "\n",
       "                                                    thumb  \\\n",
       "count                                               11500   \n",
       "unique                                               9909   \n",
       "top     https://b.zmtcdn.com/data/res_imagery/16500071...   \n",
       "freq                                                   38   \n",
       "mean                                                  NaN   \n",
       "std                                                   NaN   \n",
       "min                                                   NaN   \n",
       "25%                                                   NaN   \n",
       "50%                                                   NaN   \n",
       "75%                                                   NaN   \n",
       "max                                                   NaN   \n",
       "\n",
       "        user_rating__custom_rating_text  \\\n",
       "count                               236   \n",
       "unique                                1   \n",
       "top                                 NEW   \n",
       "freq                                236   \n",
       "mean                                NaN   \n",
       "std                                 NaN   \n",
       "min                                 NaN   \n",
       "25%                                 NaN   \n",
       "50%                                 NaN   \n",
       "75%                                 NaN   \n",
       "max                                 NaN   \n",
       "\n",
       "        user_rating__custom_rating_text_background user_rating__rating_text  \\\n",
       "count                                          236                    19220   \n",
       "unique                                           1                       38   \n",
       "top                                        #89959B                     Good   \n",
       "freq                                           236                     6033   \n",
       "mean                                           NaN                      NaN   \n",
       "std                                            NaN                      NaN   \n",
       "min                                            NaN                      NaN   \n",
       "25%                                            NaN                      NaN   \n",
       "50%                                            NaN                      NaN   \n",
       "75%                                            NaN                      NaN   \n",
       "max                                            NaN                      NaN   \n",
       "\n",
       "                             user_rating__rating_tool_tip  user_rating__votes  \\\n",
       "count                                                 236        19220.000000   \n",
       "unique                                                  1                 NaN   \n",
       "top     This restaurant is newly opened. The rating wi...                 NaN   \n",
       "freq                                                  236                 NaN   \n",
       "mean                                                  NaN           97.717170   \n",
       "std                                                   NaN          208.858739   \n",
       "min                                                   NaN            0.000000   \n",
       "25%                                                   NaN            4.000000   \n",
       "50%                                                   NaN           24.000000   \n",
       "75%                                                   NaN           96.000000   \n",
       "max                                                   NaN         5376.000000   \n",
       "\n",
       "                                            zomato_events  \n",
       "count                                                 396  \n",
       "unique                                                369  \n",
       "top     [{'event': {'event_id': 235760, 'friendly_star...  \n",
       "freq                                                   10  \n",
       "mean                                                  NaN  \n",
       "std                                                   NaN  \n",
       "min                                                   NaN  \n",
       "25%                                                   NaN  \n",
       "50%                                                   NaN  \n",
       "75%                                                   NaN  \n",
       "max                                                   NaN  \n",
       "\n",
       "[11 rows x 39 columns]"
      ]
     },
     "execution_count": 10,
     "metadata": {},
     "output_type": "execute_result"
    }
   ],
   "source": [
    "train_x.describe(include='all')"
   ]
  },
  {
   "cell_type": "code",
   "execution_count": 11,
   "metadata": {},
   "outputs": [
    {
     "name": "stdout",
     "output_type": "stream",
     "text": [
      "<class 'pandas.core.frame.DataFrame'>\n",
      "Int64Index: 19220 entries, 11142 to 10967\n",
      "Data columns (total 39 columns):\n",
      "id                                               19220 non-null int64\n",
      "average_cost_for_two                             19220 non-null int64\n",
      "book_url                                         425 non-null object\n",
      "cuisines                                         19214 non-null object\n",
      "No of cuisines                                   0 non-null float64\n",
      "currency                                         19151 non-null object\n",
      "establishment_types__establishment_type__id      19220 non-null int64\n",
      "establishment_types__establishment_type__name    19220 non-null object\n",
      "featured_image                                   11500 non-null object\n",
      "has_online_delivery                              19220 non-null int64\n",
      "has_table_booking                                19220 non-null int64\n",
      "include_bogo_offers                              19220 non-null bool\n",
      "is_book_form_web_view                            19201 non-null float64\n",
      "is_delivering_now                                19220 non-null int64\n",
      "is_table_reservation_supported                   19220 non-null int64\n",
      "is_zomato_book_res                               19201 non-null float64\n",
      "location__address                                19220 non-null object\n",
      "location__city                                   19220 non-null object\n",
      "location__city_id                                19220 non-null int64\n",
      "location__country_id                             19220 non-null int64\n",
      "location__latitude                               19220 non-null float64\n",
      "location__locality                               19220 non-null object\n",
      "location__locality_verbose                       19220 non-null object\n",
      "location__longitude                              19220 non-null float64\n",
      "location__zipcode                                5969 non-null object\n",
      "medio_provider                                   328 non-null float64\n",
      "mezzo_provider                                   19201 non-null object\n",
      "name                                             19220 non-null object\n",
      "offers                                           19220 non-null object\n",
      "opentable_support                                19201 non-null float64\n",
      "price_range                                      19220 non-null int64\n",
      "switch_to_order_menu                             19220 non-null int64\n",
      "thumb                                            11500 non-null object\n",
      "user_rating__custom_rating_text                  236 non-null object\n",
      "user_rating__custom_rating_text_background       236 non-null object\n",
      "user_rating__rating_text                         19220 non-null object\n",
      "user_rating__rating_tool_tip                     236 non-null object\n",
      "user_rating__votes                               19220 non-null int64\n",
      "zomato_events                                    396 non-null object\n",
      "dtypes: bool(1), float64(7), int64(12), object(19)\n",
      "memory usage: 5.7+ MB\n"
     ]
    }
   ],
   "source": [
    "train_x.info()"
   ]
  },
  {
   "cell_type": "markdown",
   "metadata": {},
   "source": [
    "#### Inference:\n",
    "The dataset is **not very clean**. There seems to be many unwanted features that has to be dropped and many **categorical features** that are represented as **integers** (eg: *location__country_id*) that has to be treated."
   ]
  },
  {
   "cell_type": "markdown",
   "metadata": {},
   "source": [
    "<a id=\"eda1\"></a>\n",
    "# Part II Exploratory Data Analysis \n",
    "### on \"TRAIN SET\" ONLY"
   ]
  },
  {
   "cell_type": "code",
   "execution_count": 97,
   "metadata": {},
   "outputs": [],
   "source": [
    "#For not disturbing the train_x set, we will copy the train set to different dataframe for doing analysis.\n",
    "eda = train_x.copy()\n",
    "eda['target'] = train_y"
   ]
  },
  {
   "cell_type": "markdown",
   "metadata": {},
   "source": [
    "We will perform Exploratory data analysis on **Train Set only** to identify the distribution of data<br>\n",
    "We will not touch the test set during this phase as that might introduce bias<br>\n",
    "Based on the observations, we will: <br>\n",
    "        &emsp;&emsp;&emsp;&emsp;&emsp;**drop** the **insignificant columns**<br>\n",
    "        &emsp;&emsp;&emsp;&emsp;&emsp;do the required **feature transformations** or create **new features**<br>\n",
    "        &emsp;&emsp;&emsp;&emsp;&emsp;treat the **categorical variables** using **LabelEncoder, pandas get_dummies**<br>\n",
    "        &emsp;&emsp;&emsp;&emsp;&emsp;scale the **numerical variable** using **StandardScaler**<br>\n",
    "        &emsp;&emsp;&emsp;&emsp;&emsp;**impute** the **nulls**<br>\n",
    "**However**, for treating categorical variables(while using LabelEncoder and getting dummies) we will combine both **train split** & **test split** to do the transformations. This is mainly to avoid erros while treating **unseen category levels** on test set at later stage.<br>\n",
    "We will **NOT** do feature scaling and other numerical transformations on **Test split** before training models."
   ]
  },
  {
   "cell_type": "markdown",
   "metadata": {},
   "source": [
    "**Note:**<br>\n",
    "**For ease of navigation - I have moved the EDA part to the end of notebook. Here is the Quick link: [Exploratory Data Analysis](#eda)**"
   ]
  },
  {
   "cell_type": "markdown",
   "metadata": {},
   "source": [
    "[Go to Top](#top)"
   ]
  },
  {
   "cell_type": "markdown",
   "metadata": {},
   "source": [
    "<a id=\"part3\"></a>\n",
    "# Part III DATA PREPROCESSING"
   ]
  },
  {
   "cell_type": "markdown",
   "metadata": {},
   "source": [
    "### *<font color=blue>Combine train_x and test_x</font>* \n",
    "For Treating catergorical variables and applying various transformations."
   ]
  },
  {
   "cell_type": "code",
   "execution_count": 98,
   "metadata": {},
   "outputs": [],
   "source": [
    "ntrain = train_x.shape[0]\n",
    "ntest = test_x.shape[0]\n",
    "df_full =  pd.concat([train_x, test_x]).reset_index(drop=True)"
   ]
  },
  {
   "cell_type": "markdown",
   "metadata": {},
   "source": [
    "<a id=\"drop\"></a>\n",
    "## 1. Drop Obviously Insignificant Features\n",
    "Based on the EDA, we can confirm the list of **Obviously Insignificat Features**.<br>\n",
    "We have shortlisted these features based on the below listed rules:<br>\n",
    "&emsp;&emsp;&emsp;**1.** Features that have **>70%** NULL values<br>\n",
    "&emsp;&emsp;&emsp;**2.** Duplicate or redundant columns.<br>\n",
    "&emsp;&emsp;&emsp;**3.** Almost all Unique values. eg: id<br>\n",
    "&emsp;&emsp;&emsp;**4.** Features that have **>95%** SAME values and rest as NULLS. Since these kind of features would not contibute much to dependant variable. For eg: All 'TRUE' labels in a 'include_bogo_offers' column.<br>\n",
    "\n",
    "**Note:**<br>\n",
    "&emsp;&emsp;&emsp; **A detailed reasoning for dropping each variable is listed in the powerpoint deck.**"
   ]
  },
  {
   "cell_type": "code",
   "execution_count": 99,
   "metadata": {},
   "outputs": [],
   "source": [
    "# These are the list of 'Obvisouly Insignificant columns' that were finalized to be dropped based on the EDA.\n",
    "drop_cols = ['user_rating__rating_tool_tip','user_rating__custom_rating_text_background','user_rating__custom_rating_text',\n",
    "             'medio_provider', 'zomato_events', 'book_url','location__zipcode', 'establishment_types__establishment_type__name',\n",
    "            'location__city_id','featured_image','location__address','location__locality','location__locality_verbose', 'id', \n",
    "             'name', 'location__latitude', 'location__longitude', 'include_bogo_offers', 'is_book_form_web_view', \n",
    "            'is_table_reservation_supported', 'is_zomato_book_res','mezzo_provider','opentable_support', 'switch_to_order_menu']\n",
    "for cols in drop_cols:\n",
    "    df_full.drop(cols, axis=1, inplace=True)"
   ]
  },
  {
   "cell_type": "code",
   "execution_count": 100,
   "metadata": {},
   "outputs": [
    {
     "name": "stdout",
     "output_type": "stream",
     "text": [
      "<class 'pandas.core.frame.DataFrame'>\n",
      "RangeIndex: 24026 entries, 0 to 24025\n",
      "Data columns (total 14 columns):\n",
      "average_cost_for_two                           24026 non-null int64\n",
      "cuisines                                       24012 non-null object\n",
      "currency                                       23941 non-null object\n",
      "establishment_types__establishment_type__id    24026 non-null int64\n",
      "has_online_delivery                            24026 non-null int64\n",
      "has_table_booking                              24026 non-null int64\n",
      "is_delivering_now                              24026 non-null int64\n",
      "location__city                                 24026 non-null object\n",
      "location__country_id                           24026 non-null int64\n",
      "offers                                         24026 non-null object\n",
      "price_range                                    24026 non-null int64\n",
      "thumb                                          14351 non-null object\n",
      "user_rating__rating_text                       24026 non-null object\n",
      "user_rating__votes                             24026 non-null int64\n",
      "dtypes: int64(8), object(6)\n",
      "memory usage: 2.6+ MB\n"
     ]
    }
   ],
   "source": [
    "df_full.info()"
   ]
  },
  {
   "cell_type": "markdown",
   "metadata": {},
   "source": [
    "Dropping columns resulted in a dataset with 14 columns.<br>From the above 'info', we understand that **'cuisines'** and **'currency'** columns have **NULL** values.<br>\n",
    "We have to do certain **feature engineering** on these two variables and in this case alone, it is better to handle the NULLS after transformation.**"
   ]
  },
  {
   "cell_type": "markdown",
   "metadata": {},
   "source": [
    "<a id=\"stats\"></a>\n",
    "## 2. Find Insignificant features using Statsmodel"
   ]
  },
  {
   "cell_type": "code",
   "execution_count": 109,
   "metadata": {},
   "outputs": [
    {
     "name": "stdout",
     "output_type": "stream",
     "text": [
      "(19220, 14)\n"
     ]
    }
   ],
   "source": [
    "train_x1 = df_full[:ntrain] #copy the train set of df_full to a new set for statsmodel\n",
    "print(train_x1.shape)\n",
    "y = list(train_y)"
   ]
  },
  {
   "cell_type": "code",
   "execution_count": 110,
   "metadata": {},
   "outputs": [],
   "source": [
    "obj_cols = ['user_rating__rating_text', 'thumb', 'offers', 'location__city', 'currency', 'cuisines']\n",
    "for i in obj_cols:\n",
    "    lbl =LabelEncoder()\n",
    "    train_x1[i] = lbl.fit_transform(list(train_x1[i].values))"
   ]
  },
  {
   "cell_type": "code",
   "execution_count": 111,
   "metadata": {
    "scrolled": false
   },
   "outputs": [
    {
     "name": "stdout",
     "output_type": "stream",
     "text": [
      "                            OLS Regression Results                            \n",
      "==============================================================================\n",
      "Dep. Variable:                      y   R-squared:                       0.212\n",
      "Model:                            OLS   Adj. R-squared:                  0.212\n",
      "Method:                 Least Squares   F-statistic:                     370.0\n",
      "Date:                Mon, 11 Feb 2019   Prob (F-statistic):               0.00\n",
      "Time:                        16:40:51   Log-Likelihood:                -32393.\n",
      "No. Observations:               19220   AIC:                         6.482e+04\n",
      "Df Residuals:                   19205   BIC:                         6.493e+04\n",
      "Df Model:                          14                                         \n",
      "Covariance Type:            nonrobust                                         \n",
      "===============================================================================================================\n",
      "                                                  coef    std err          t      P>|t|      [0.025      0.975]\n",
      "---------------------------------------------------------------------------------------------------------------\n",
      "const                                           2.3448      0.049     47.851      0.000       2.249       2.441\n",
      "average_cost_for_two                         9.597e-07   1.43e-07      6.720      0.000     6.8e-07    1.24e-06\n",
      "cuisines                                      9.19e-05   8.13e-06     11.304      0.000     7.6e-05       0.000\n",
      "currency                                       -0.0088      0.002     -4.602      0.000      -0.012      -0.005\n",
      "establishment_types__establishment_type__id    -0.0019      0.000     -9.848      0.000      -0.002      -0.002\n",
      "has_online_delivery                             0.4061      0.053      7.709      0.000       0.303       0.509\n",
      "has_table_booking                               0.2863      0.065      4.374      0.000       0.158       0.415\n",
      "is_delivering_now                               0.1016      0.060      1.694      0.090      -0.016       0.219\n",
      "location__city                                  0.0064      0.000     19.060      0.000       0.006       0.007\n",
      "location__country_id                            0.0031      0.000     23.100      0.000       0.003       0.003\n",
      "offers                                          0.0119      0.051      0.232      0.817      -0.089       0.112\n",
      "price_range                                     0.1643      0.010     16.800      0.000       0.145       0.183\n",
      "thumb                                       -7.261e-05   3.21e-06    -22.620      0.000   -7.89e-05   -6.63e-05\n",
      "user_rating__rating_text                       -0.0092      0.001    -10.512      0.000      -0.011      -0.007\n",
      "user_rating__votes                              0.0016   4.94e-05     33.117      0.000       0.002       0.002\n",
      "==============================================================================\n",
      "Omnibus:                     2556.264   Durbin-Watson:                   1.954\n",
      "Prob(Omnibus):                  0.000   Jarque-Bera (JB):             3732.802\n",
      "Skew:                          -1.077   Prob(JB):                         0.00\n",
      "Kurtosis:                       3.160   Cond. No.                     5.65e+05\n",
      "==============================================================================\n",
      "\n",
      "Warnings:\n",
      "[1] Standard Errors assume that the covariance matrix of the errors is correctly specified.\n",
      "[2] The condition number is large, 5.65e+05. This might indicate that there are\n",
      "strong multicollinearity or other numerical problems.\n"
     ]
    }
   ],
   "source": [
    "train_x1 = sm.add_constant(train_x1)\n",
    "model = sm.OLS(y, train_x1)\n",
    "result = model.fit()\n",
    "print(result.summary())"
   ]
  },
  {
   "cell_type": "markdown",
   "metadata": {},
   "source": [
    "#### Inference: \n",
    "***Offers*** and ***is_delivering_now*** columns are proven to be **statistically insignificant** by stats model OLS. Hence we will drop these two columns too."
   ]
  },
  {
   "cell_type": "code",
   "execution_count": 112,
   "metadata": {},
   "outputs": [
    {
     "name": "stdout",
     "output_type": "stream",
     "text": [
      "                            OLS Regression Results                            \n",
      "==============================================================================\n",
      "Dep. Variable:                      y   R-squared:                       0.212\n",
      "Model:                            OLS   Adj. R-squared:                  0.212\n",
      "Method:                 Least Squares   F-statistic:                     431.4\n",
      "Date:                Mon, 11 Feb 2019   Prob (F-statistic):               0.00\n",
      "Time:                        16:40:56   Log-Likelihood:                -32394.\n",
      "No. Observations:               19220   AIC:                         6.481e+04\n",
      "Df Residuals:                   19207   BIC:                         6.492e+04\n",
      "Df Model:                          12                                         \n",
      "Covariance Type:            nonrobust                                         \n",
      "===============================================================================================================\n",
      "                                                  coef    std err          t      P>|t|      [0.025      0.975]\n",
      "---------------------------------------------------------------------------------------------------------------\n",
      "const                                           2.3435      0.049     47.830      0.000       2.247       2.440\n",
      "average_cost_for_two                         9.581e-07   1.43e-07      6.708      0.000    6.78e-07    1.24e-06\n",
      "cuisines                                     9.218e-05   8.13e-06     11.340      0.000    7.62e-05       0.000\n",
      "currency                                       -0.0086      0.002     -4.518      0.000      -0.012      -0.005\n",
      "establishment_types__establishment_type__id    -0.0019      0.000     -9.874      0.000      -0.002      -0.002\n",
      "has_online_delivery                             0.4784      0.031     15.361      0.000       0.417       0.539\n",
      "has_table_booking                               0.2851      0.065      4.355      0.000       0.157       0.413\n",
      "location__city                                  0.0064      0.000     19.153      0.000       0.006       0.007\n",
      "location__country_id                            0.0031      0.000     23.050      0.000       0.003       0.003\n",
      "price_range                                     0.1644      0.010     16.812      0.000       0.145       0.184\n",
      "thumb                                       -7.266e-05   3.21e-06    -22.638      0.000    -7.9e-05   -6.64e-05\n",
      "user_rating__rating_text                       -0.0092      0.001    -10.527      0.000      -0.011      -0.008\n",
      "user_rating__votes                              0.0016   4.94e-05     33.116      0.000       0.002       0.002\n",
      "==============================================================================\n",
      "Omnibus:                     2557.209   Durbin-Watson:                   1.954\n",
      "Prob(Omnibus):                  0.000   Jarque-Bera (JB):             3734.625\n",
      "Skew:                          -1.077   Prob(JB):                         0.00\n",
      "Kurtosis:                       3.160   Cond. No.                     4.86e+05\n",
      "==============================================================================\n",
      "\n",
      "Warnings:\n",
      "[1] Standard Errors assume that the covariance matrix of the errors is correctly specified.\n",
      "[2] The condition number is large, 4.86e+05. This might indicate that there are\n",
      "strong multicollinearity or other numerical problems.\n"
     ]
    }
   ],
   "source": [
    "#drop offers and is_delivering_now columns and fit the ols model again\n",
    "train_x1.drop(['offers','is_delivering_now'], axis=1, inplace=True)\n",
    "model2 = sm.OLS(y, train_x1)\n",
    "result2 = model2.fit()\n",
    "print(result2.summary())"
   ]
  },
  {
   "cell_type": "markdown",
   "metadata": {},
   "source": [
    "After dropping these columns, there seems to be no more insignificant columns.<br>\n",
    "**However**, there are certain columns that need to be treated in a special way which will be handled in **Feature Engineering** section."
   ]
  },
  {
   "cell_type": "code",
   "execution_count": 113,
   "metadata": {},
   "outputs": [],
   "source": [
    "#dropping these two features from the full set(train and test) to continue with feature engf\n",
    "df_full.drop(['offers','is_delivering_now'], axis=1, inplace=True)"
   ]
  },
  {
   "cell_type": "markdown",
   "metadata": {},
   "source": [
    "<a id=\"feature\"></a>\n",
    "## 3. Feature Engineering"
   ]
  },
  {
   "cell_type": "markdown",
   "metadata": {},
   "source": [
    "### a. _\"currency\"_ & *\"average_cost_for_two\"* COLUMNS<br>\n",
    "These two columns are inter-related. The problem is that there are **multiple currencies** listed and we need to convert the 'average_cost_for_two' to single currency values.<br>\n",
    "For this we will **convert** each currecy to **US dollar** value based on their current conversion rates.<br>\n",
    "After converting, we can **drop** these two columns and keep the newly created 'Avg_cost_in_USD' column."
   ]
  },
  {
   "cell_type": "code",
   "execution_count": 115,
   "metadata": {},
   "outputs": [],
   "source": [
    "def impute_curr(cols):\n",
    "    currency = cols[0]\n",
    "    average_cost_for_two = cols[1]    \n",
    "    if currency==\"Rs.\":\n",
    "        return format((average_cost_for_two/71.46),'.2f')\n",
    "    elif currency==\"£\":\n",
    "        return format((average_cost_for_two/0.76),'.2f')\n",
    "    elif currency==\"AED\":\n",
    "        return format((average_cost_for_two/3.67),'.2f')\n",
    "    elif currency==\"TL\":\n",
    "        return format((average_cost_for_two/5.21),'.2f')\n",
    "    elif currency==\"$\":\n",
    "        return average_cost_for_two\n",
    "    elif currency==\"R$\":\n",
    "        return format((average_cost_for_two/3.66),'.2f')\n",
    "    elif currency==\"NZ$\":\n",
    "        return format((average_cost_for_two/1.45),'.2f')\n",
    "    elif currency==\"R\":\n",
    "        return format((average_cost_for_two/13.37),'.2f')\n",
    "    elif currency==\"€\":\n",
    "        return format((average_cost_for_two/0.87),'.2f')\n",
    "    elif currency==\"MYR\":\n",
    "        return format((average_cost_for_two/4.09),'.2f')\n",
    "    elif currency==\"LBP\":\n",
    "        return format((average_cost_for_two/1509.90),'.2f')\n",
    "    elif currency==\"P\":\n",
    "        return format((average_cost_for_two/52.50),'.2f')\n",
    "    elif currency==\"Kč\":\n",
    "        return format((average_cost_for_two/22.46),'.2f')\n",
    "    elif currency==\"IDR\":\n",
    "        return format((average_cost_for_two/14001.90),'.2f')\n",
    "    elif currency==\"QR\":\n",
    "        return format((average_cost_for_two/3.64),'.2f')\n",
    "    elif currency==\"LKR\":\n",
    "        return format((average_cost_for_two/176.66),'.2f')\n",
    "    else:\n",
    "        return format((average_cost_for_two*0),'.2f') #These are the null values and they have dummy numbers. Hence it is sensible to make the avg cost as zero."
   ]
  },
  {
   "cell_type": "code",
   "execution_count": 116,
   "metadata": {},
   "outputs": [],
   "source": [
    "df_full['Avg_cost_in_USD'] = df_full[['currency','average_cost_for_two']].apply(impute_curr,axis=1).astype(float)"
   ]
  },
  {
   "cell_type": "code",
   "execution_count": 117,
   "metadata": {},
   "outputs": [],
   "source": [
    "for c in ['currency','average_cost_for_two']:\n",
    "    df_full.drop(c,axis=1,inplace=True )"
   ]
  },
  {
   "cell_type": "markdown",
   "metadata": {},
   "source": [
    "### b. *\"user_rating__rating_text\"* COLUMN<br>\n",
    "This is **highly significant** column with highest correlation to the dependant variable. Each user rating has a relevant text that is stored in this feature. It categorizes the range of the user rating. For eg: **4.0 to 4.5** rating is depicted as **\"Very Good\"**, **4.5+** ratings are termed as **\"Excellent\"**, **3.5 to 4.0** as **Good** and so on.<br>\n",
    "However, the problem is that we have these phrases stored in **multiple languages**.<br>\n",
    "**Goal:** Identify similar labels from **multiple languages** and group them(re-label) with their **English** equivalents."
   ]
  },
  {
   "cell_type": "code",
   "execution_count": 118,
   "metadata": {},
   "outputs": [],
   "source": [
    "#lets take the dependant variable and user_rating__rating_text to a single dataframe for further analysis and transformation\n",
    "target = pd.DataFrame(train_y)\n",
    "target['rating_txt'] = pd.DataFrame(zom['user_rating__rating_text'])\n",
    "target['rating_range'] = ''"
   ]
  },
  {
   "cell_type": "code",
   "execution_count": 119,
   "metadata": {},
   "outputs": [
    {
     "data": {
      "text/html": [
       "<div>\n",
       "<style scoped>\n",
       "    .dataframe tbody tr th:only-of-type {\n",
       "        vertical-align: middle;\n",
       "    }\n",
       "\n",
       "    .dataframe tbody tr th {\n",
       "        vertical-align: top;\n",
       "    }\n",
       "\n",
       "    .dataframe thead th {\n",
       "        text-align: right;\n",
       "    }\n",
       "</style>\n",
       "<table border=\"1\" class=\"dataframe\">\n",
       "  <thead>\n",
       "    <tr style=\"text-align: right;\">\n",
       "      <th></th>\n",
       "      <th>rating</th>\n",
       "      <th>rating_txt</th>\n",
       "      <th>rating_range</th>\n",
       "    </tr>\n",
       "  </thead>\n",
       "  <tbody>\n",
       "    <tr>\n",
       "      <th>11142</th>\n",
       "      <td>4.2</td>\n",
       "      <td>Very Good</td>\n",
       "      <td></td>\n",
       "    </tr>\n",
       "    <tr>\n",
       "      <th>4546</th>\n",
       "      <td>2.6</td>\n",
       "      <td>Average</td>\n",
       "      <td></td>\n",
       "    </tr>\n",
       "    <tr>\n",
       "      <th>13379</th>\n",
       "      <td>3.4</td>\n",
       "      <td>Average</td>\n",
       "      <td></td>\n",
       "    </tr>\n",
       "    <tr>\n",
       "      <th>6046</th>\n",
       "      <td>4.4</td>\n",
       "      <td>Very Good</td>\n",
       "      <td></td>\n",
       "    </tr>\n",
       "    <tr>\n",
       "      <th>23986</th>\n",
       "      <td>3.6</td>\n",
       "      <td>Good</td>\n",
       "      <td></td>\n",
       "    </tr>\n",
       "  </tbody>\n",
       "</table>\n",
       "</div>"
      ],
      "text/plain": [
       "       rating rating_txt rating_range\n",
       "11142     4.2  Very Good             \n",
       "4546      2.6    Average             \n",
       "13379     3.4    Average             \n",
       "6046      4.4  Very Good             \n",
       "23986     3.6       Good             "
      ]
     },
     "execution_count": 119,
     "metadata": {},
     "output_type": "execute_result"
    }
   ],
   "source": [
    "target.columns = ['rating', 'rating_txt', 'rating_range']\n",
    "target.head()"
   ]
  },
  {
   "cell_type": "code",
   "execution_count": 120,
   "metadata": {},
   "outputs": [],
   "source": [
    "R1 = [1.0,1.1,1.2,1.3,1.4,1.5,1.6,1.7,1.8,1.9]\n",
    "target.loc[(target['rating']== 0.0), 'rating_range'] = '0'\n",
    "for i in np.arange(1.0,2.0,0.1):\n",
    "    i = round(i,1)\n",
    "    target.loc[(target['rating']==i), 'rating_range'] = '1-2'\n",
    "for i in np.arange(2.0,2.5,0.1):\n",
    "    i = round(i,1)\n",
    "    target.loc[(target['rating']==i), 'rating_range'] = '2.0-2.5'\n",
    "for i in np.arange(2.5,3.0,0.1):\n",
    "    i = round(i,1)\n",
    "    target.loc[(target['rating'] == i), 'rating_range'] = '2.5-3.0'\n",
    "for i in np.arange(3.0,3.5,0.1):\n",
    "    i = round(i,1)    \n",
    "    target.loc[(target['rating'] == i), 'rating_range'] = '3.0-3.5'\n",
    "for i in np.arange(3.5,4.0,0.1):\n",
    "    i = round(i,1)\n",
    "    target.loc[(target['rating'] == i), 'rating_range'] = '3.5-4.0'\n",
    "for i in np.arange(4.0,4.5,0.1):\n",
    "    i = round(i,1)\n",
    "    target.loc[(target['rating'] == i), 'rating_range'] = '4.0-4.5'\n",
    "for i in np.arange(4.5,5.1,0.1):\n",
    "    i = round(i,1)\n",
    "    target.loc[(target['rating'] == i), 'rating_range'] = '4.5+'"
   ]
  },
  {
   "cell_type": "code",
   "execution_count": 121,
   "metadata": {},
   "outputs": [
    {
     "data": {
      "text/html": [
       "<div>\n",
       "<style scoped>\n",
       "    .dataframe tbody tr th:only-of-type {\n",
       "        vertical-align: middle;\n",
       "    }\n",
       "\n",
       "    .dataframe tbody tr th {\n",
       "        vertical-align: top;\n",
       "    }\n",
       "\n",
       "    .dataframe thead th {\n",
       "        text-align: right;\n",
       "    }\n",
       "</style>\n",
       "<table border=\"1\" class=\"dataframe\">\n",
       "  <thead>\n",
       "    <tr style=\"text-align: right;\">\n",
       "      <th></th>\n",
       "      <th>rating_txt</th>\n",
       "      <th>0</th>\n",
       "      <th>1-2</th>\n",
       "      <th>2.0-2.5</th>\n",
       "      <th>2.5-3.0</th>\n",
       "      <th>3.0-3.5</th>\n",
       "      <th>3.5-4.0</th>\n",
       "      <th>4.0-4.5</th>\n",
       "      <th>4.5+</th>\n",
       "    </tr>\n",
       "  </thead>\n",
       "  <tbody>\n",
       "    <tr>\n",
       "      <th>0</th>\n",
       "      <td>Average</td>\n",
       "      <td>0</td>\n",
       "      <td>0</td>\n",
       "      <td>0</td>\n",
       "      <td>1108</td>\n",
       "      <td>3105</td>\n",
       "      <td>0</td>\n",
       "      <td>0</td>\n",
       "      <td>0</td>\n",
       "    </tr>\n",
       "    <tr>\n",
       "      <th>1</th>\n",
       "      <td>Baik</td>\n",
       "      <td>0</td>\n",
       "      <td>0</td>\n",
       "      <td>0</td>\n",
       "      <td>0</td>\n",
       "      <td>0</td>\n",
       "      <td>17</td>\n",
       "      <td>0</td>\n",
       "      <td>0</td>\n",
       "    </tr>\n",
       "  </tbody>\n",
       "</table>\n",
       "</div>"
      ],
      "text/plain": [
       "  rating_txt  0  1-2  2.0-2.5  2.5-3.0  3.0-3.5  3.5-4.0  4.0-4.5  4.5+\n",
       "0    Average  0    0        0     1108     3105        0        0     0\n",
       "1       Baik  0    0        0        0        0       17        0     0"
      ]
     },
     "execution_count": 121,
     "metadata": {},
     "output_type": "execute_result"
    }
   ],
   "source": [
    "rating = pd.crosstab(target['rating_txt'], target['rating_range'])\n",
    "headers = rating.columns.values\n",
    "rating.columns = headers\n",
    "rating.reset_index(inplace=True)\n",
    "rating.head(2)"
   ]
  },
  {
   "cell_type": "markdown",
   "metadata": {},
   "source": [
    "This dataframe looks much better to with the required rating buckets as headers. Now we can get the similar labels by selecting the list of labels from particular bucket."
   ]
  },
  {
   "cell_type": "code",
   "execution_count": 122,
   "metadata": {},
   "outputs": [
    {
     "data": {
      "text/html": [
       "<div>\n",
       "<style scoped>\n",
       "    .dataframe tbody tr th:only-of-type {\n",
       "        vertical-align: middle;\n",
       "    }\n",
       "\n",
       "    .dataframe tbody tr th {\n",
       "        vertical-align: top;\n",
       "    }\n",
       "\n",
       "    .dataframe thead th {\n",
       "        text-align: right;\n",
       "    }\n",
       "</style>\n",
       "<table border=\"1\" class=\"dataframe\">\n",
       "  <thead>\n",
       "    <tr style=\"text-align: right;\">\n",
       "      <th></th>\n",
       "      <th>rating_txt</th>\n",
       "      <th>0</th>\n",
       "      <th>1-2</th>\n",
       "      <th>2.0-2.5</th>\n",
       "      <th>2.5-3.0</th>\n",
       "      <th>3.0-3.5</th>\n",
       "      <th>3.5-4.0</th>\n",
       "      <th>4.0-4.5</th>\n",
       "      <th>4.5+</th>\n",
       "    </tr>\n",
       "  </thead>\n",
       "  <tbody>\n",
       "    <tr>\n",
       "      <th>1</th>\n",
       "      <td>Baik</td>\n",
       "      <td>0</td>\n",
       "      <td>0</td>\n",
       "      <td>0</td>\n",
       "      <td>0</td>\n",
       "      <td>0</td>\n",
       "      <td>17</td>\n",
       "      <td>0</td>\n",
       "      <td>0</td>\n",
       "    </tr>\n",
       "    <tr>\n",
       "      <th>5</th>\n",
       "      <td>Bom</td>\n",
       "      <td>0</td>\n",
       "      <td>0</td>\n",
       "      <td>0</td>\n",
       "      <td>0</td>\n",
       "      <td>0</td>\n",
       "      <td>11</td>\n",
       "      <td>0</td>\n",
       "      <td>0</td>\n",
       "    </tr>\n",
       "    <tr>\n",
       "      <th>6</th>\n",
       "      <td>Bueno</td>\n",
       "      <td>0</td>\n",
       "      <td>0</td>\n",
       "      <td>0</td>\n",
       "      <td>0</td>\n",
       "      <td>0</td>\n",
       "      <td>2</td>\n",
       "      <td>0</td>\n",
       "      <td>0</td>\n",
       "    </tr>\n",
       "    <tr>\n",
       "      <th>7</th>\n",
       "      <td>Buono</td>\n",
       "      <td>0</td>\n",
       "      <td>0</td>\n",
       "      <td>0</td>\n",
       "      <td>0</td>\n",
       "      <td>0</td>\n",
       "      <td>6</td>\n",
       "      <td>0</td>\n",
       "      <td>0</td>\n",
       "    </tr>\n",
       "    <tr>\n",
       "      <th>8</th>\n",
       "      <td>Dobrze</td>\n",
       "      <td>0</td>\n",
       "      <td>0</td>\n",
       "      <td>0</td>\n",
       "      <td>0</td>\n",
       "      <td>0</td>\n",
       "      <td>7</td>\n",
       "      <td>0</td>\n",
       "      <td>0</td>\n",
       "    </tr>\n",
       "    <tr>\n",
       "      <th>12</th>\n",
       "      <td>Good</td>\n",
       "      <td>0</td>\n",
       "      <td>0</td>\n",
       "      <td>0</td>\n",
       "      <td>0</td>\n",
       "      <td>0</td>\n",
       "      <td>6033</td>\n",
       "      <td>0</td>\n",
       "      <td>0</td>\n",
       "    </tr>\n",
       "    <tr>\n",
       "      <th>28</th>\n",
       "      <td>Skvělá volba</td>\n",
       "      <td>0</td>\n",
       "      <td>0</td>\n",
       "      <td>0</td>\n",
       "      <td>0</td>\n",
       "      <td>0</td>\n",
       "      <td>7</td>\n",
       "      <td>0</td>\n",
       "      <td>0</td>\n",
       "    </tr>\n",
       "    <tr>\n",
       "      <th>36</th>\n",
       "      <td>İyi</td>\n",
       "      <td>0</td>\n",
       "      <td>0</td>\n",
       "      <td>0</td>\n",
       "      <td>0</td>\n",
       "      <td>0</td>\n",
       "      <td>10</td>\n",
       "      <td>0</td>\n",
       "      <td>0</td>\n",
       "    </tr>\n",
       "  </tbody>\n",
       "</table>\n",
       "</div>"
      ],
      "text/plain": [
       "      rating_txt  0  1-2  2.0-2.5  2.5-3.0  3.0-3.5  3.5-4.0  4.0-4.5  4.5+\n",
       "1           Baik  0    0        0        0        0       17        0     0\n",
       "5            Bom  0    0        0        0        0       11        0     0\n",
       "6          Bueno  0    0        0        0        0        2        0     0\n",
       "7          Buono  0    0        0        0        0        6        0     0\n",
       "8         Dobrze  0    0        0        0        0        7        0     0\n",
       "12          Good  0    0        0        0        0     6033        0     0\n",
       "28  Skvělá volba  0    0        0        0        0        7        0     0\n",
       "36           İyi  0    0        0        0        0       10        0     0"
      ]
     },
     "execution_count": 122,
     "metadata": {},
     "output_type": "execute_result"
    }
   ],
   "source": [
    "rating.loc[(rating['3.5-4.0']>0)]"
   ]
  },
  {
   "cell_type": "code",
   "execution_count": 123,
   "metadata": {},
   "outputs": [
    {
     "name": "stdout",
     "output_type": "stream",
     "text": [
      "Excellent labels:  ['Eccellente', 'Excelente', 'Excellent', 'Harika', 'Skvělé', 'Terbaik', 'Vynikajúce']\n",
      "VGood labels:  ['Bardzo dobrze', 'Muito Bom', 'Muito bom', 'Muy Bueno', 'Ottimo', 'Sangat Baik', 'Velmi dobré', 'Very Good', 'Veľmi dobré', 'Çok iyi']\n",
      "Good labels:  ['Baik', 'Bom', 'Bueno', 'Buono', 'Dobrze', 'Good', 'Skvělá volba', 'İyi']\n",
      "Above Avg labels: ['Average', 'Biasa', 'Media', 'Média', 'Ortalama', 'Priemer', 'Promedio', 'Průměr', 'Średnio']\n",
      "Poor labels:  ['Malo', 'Poor']\n"
     ]
    }
   ],
   "source": [
    "Excellent = list(rating['rating_txt'].loc[(rating['4.5+']>0)])\n",
    "VGood = list(rating['rating_txt'].loc[(rating['4.0-4.5']>0)])\n",
    "Good = list(rating['rating_txt'].loc[(rating['3.5-4.0']>0)])\n",
    "Abv_Avg = list(rating['rating_txt'].loc[(rating['3.0-3.5']>0)])\n",
    "Poor = list(rating['rating_txt'].loc[(rating['2.0-2.5']>0)])\n",
    "print('Excellent labels: ',Excellent)\n",
    "print('VGood labels: ', VGood)\n",
    "print('Good labels: ', Good)\n",
    "print('Above Avg labels:', Abv_Avg)\n",
    "print('Poor labels: ',Poor)"
   ]
  },
  {
   "cell_type": "markdown",
   "metadata": {},
   "source": [
    "We have now, **grouped** all the labels to the relevant english phrases based on their respective rating ranges. "
   ]
  },
  {
   "cell_type": "code",
   "execution_count": 124,
   "metadata": {},
   "outputs": [],
   "source": [
    "#We should remove 'Average' from abv_average list\n",
    "Abv_avg = ['Biasa', 'Media', 'Média', 'Ortalama', 'Priemer', 'Promedio', 'Průměr', 'Średnio']"
   ]
  },
  {
   "cell_type": "code",
   "execution_count": 125,
   "metadata": {},
   "outputs": [],
   "source": [
    "def rating_text(data):\n",
    "    for a in Excellent:\n",
    "        data.loc[(data['user_rating__rating_text']==a), 'user_rating__rating_text'] = 'Excellent'\n",
    "    for a in VGood:\n",
    "        data.loc[(data['user_rating__rating_text']==a), 'user_rating__rating_text'] = 'Very Good'\n",
    "    for a in Good:\n",
    "        data.loc[(data['user_rating__rating_text']==a), 'user_rating__rating_text'] = 'Good'\n",
    "    for a in Abv_avg:\n",
    "        data.loc[(data['user_rating__rating_text']==a), 'user_rating__rating_text'] = 'Above Average'\n",
    "    data.loc[(data['user_rating__rating_text']=='Malo'), 'user_rating__rating_text'] = 'Poor'\n",
    "    data.loc[(data['user_rating__rating_text']=='Belum ada penilaian'), 'user_rating__rating_text'] = 'Poor'"
   ]
  },
  {
   "cell_type": "markdown",
   "metadata": {},
   "source": [
    "Transform ***'user_rating__rating_text'*** column on full dataset."
   ]
  },
  {
   "cell_type": "code",
   "execution_count": 126,
   "metadata": {},
   "outputs": [],
   "source": [
    "rating_text(df_full)"
   ]
  },
  {
   "cell_type": "code",
   "execution_count": 127,
   "metadata": {},
   "outputs": [
    {
     "data": {
      "text/plain": [
       "Good             7631\n",
       "Very Good        5624\n",
       "Average          5230\n",
       "Not rated        4145\n",
       "Excellent        1199\n",
       "Poor              167\n",
       "Above Average      30\n",
       "Name: user_rating__rating_text, dtype: int64"
      ]
     },
     "execution_count": 127,
     "metadata": {},
     "output_type": "execute_result"
    }
   ],
   "source": [
    "df_full.user_rating__rating_text.value_counts()"
   ]
  },
  {
   "cell_type": "markdown",
   "metadata": {},
   "source": [
    "Now, this looks much better as we have all our caterogy labels in **English** and we have less categories to deal with."
   ]
  },
  {
   "cell_type": "markdown",
   "metadata": {},
   "source": [
    "### c. _\"cuisines\"_ COLUMN<br>\n",
    "This column has multiple cuisines listed with comma separator. This can be better handled by splitting the labels and extracting each kind of cuisine that the restaurant offers.<br>\n",
    "Looking at the data, we understood that the first listed cuisine is the main cuisine of the restaurant.<br>\n",
    "Hence, it is better to extract just the main cuisine from the list and store it as separate feature - ***main_cuisine***<br>\n",
    "Also, We can take a count of the number of cuisines an outlet is serving and make it a new feature - ***cuisine_count***<br>\n",
    "Later, we can drop the \"cuisines\" column."
   ]
  },
  {
   "cell_type": "code",
   "execution_count": 128,
   "metadata": {},
   "outputs": [],
   "source": [
    "def cuisines(dataset):\n",
    "    g = pd.DataFrame(dataset['cuisines'].str.split(',').apply(pd.Series,1).stack())\n",
    "    c = g.reset_index(level=1)\n",
    "    c.columns = ['index', 'main_cuisine']\n",
    "    t = c.loc[c['index']==0,'main_cuisine']\n",
    "    a = pd.DataFrame(df_full['cuisines'].str.count(','))\n",
    "    a.columns = ['cuisine_count']\n",
    "    a = a+1\n",
    "    a = a.join(t)\n",
    "    return a #This function will extract the first word of cuisines and stack it to 'g'. The we can store it to Dataframe."
   ]
  },
  {
   "cell_type": "code",
   "execution_count": 129,
   "metadata": {},
   "outputs": [],
   "source": [
    "df_full = df_full.join(cuisines(df_full))"
   ]
  },
  {
   "cell_type": "code",
   "execution_count": 130,
   "metadata": {},
   "outputs": [],
   "source": [
    "df_full.drop('cuisines', axis = 1, inplace=True) #drop cuisines column"
   ]
  },
  {
   "cell_type": "markdown",
   "metadata": {},
   "source": [
    "### d. _\"thumb\"_ COLUMN\n",
    "*'thumb'* column contains the url of the thumb image or featured image of an outlet. Though the url itself is not of use for us in this case, we can mark a restaturant whether it has a featured image or not. As we see, there were 40% null values in this column which indicates that not all the restaurants has a thumb image.\n",
    "<br>Hence we full nulls with **0**s and then will fill the rest of the urls with **1**s in *'thumb'* column."
   ]
  },
  {
   "cell_type": "code",
   "execution_count": 134,
   "metadata": {},
   "outputs": [],
   "source": [
    "df_full['thumb'].fillna(0, inplace=True)"
   ]
  },
  {
   "cell_type": "code",
   "execution_count": 135,
   "metadata": {},
   "outputs": [],
   "source": [
    "df_full.loc[(df_full['thumb']!=0), 'thumb'] = 1"
   ]
  },
  {
   "cell_type": "code",
   "execution_count": 136,
   "metadata": {},
   "outputs": [
    {
     "data": {
      "text/plain": [
       "1    14351\n",
       "0     9675\n",
       "Name: thumb, dtype: int64"
      ]
     },
     "execution_count": 136,
     "metadata": {},
     "output_type": "execute_result"
    }
   ],
   "source": [
    "df_full.thumb.value_counts()"
   ]
  },
  {
   "cell_type": "markdown",
   "metadata": {},
   "source": [
    "<a id=\"cat\"></a>\n",
    "## 3. Treat Categorical Columns\n",
    "\n",
    "### a. Label Encoding"
   ]
  },
  {
   "cell_type": "code",
   "execution_count": 138,
   "metadata": {},
   "outputs": [],
   "source": [
    "# Process columns, apply LabelEncoder to categorical features\n",
    "cat_cols = ['establishment_types__establishment_type__id','location__country_id',\n",
    "            'location__city', 'price_range','user_rating__rating_text', 'main_cuisine']"
   ]
  },
  {
   "cell_type": "code",
   "execution_count": 139,
   "metadata": {},
   "outputs": [],
   "source": [
    "for c in cat_cols:\n",
    "    le = LabelEncoder()\n",
    "    df_full[c] = le.fit_transform(list(df_full[c].values))"
   ]
  },
  {
   "cell_type": "markdown",
   "metadata": {},
   "source": [
    "### b. Get Dummies"
   ]
  },
  {
   "cell_type": "code",
   "execution_count": 140,
   "metadata": {},
   "outputs": [],
   "source": [
    "dummy_col = ['establishment_types__establishment_type__id','location__country_id',\n",
    "            'location__city', 'price_range','user_rating__rating_text']\n",
    "df_full = pd.get_dummies(df_full, columns= dummy_col)"
   ]
  },
  {
   "cell_type": "markdown",
   "metadata": {},
   "source": [
    "**Drop Extra Dummy columns**"
   ]
  },
  {
   "cell_type": "code",
   "execution_count": 141,
   "metadata": {},
   "outputs": [],
   "source": [
    "extra_dummies = ['user_rating__rating_text_0', 'establishment_types__establishment_type__id_0', \n",
    "                 'location__country_id_0', 'location__city_0', 'price_range_0']\n",
    "for cols in extra_dummies:\n",
    "    df_full.drop(cols, axis=1, inplace=True)"
   ]
  },
  {
   "cell_type": "markdown",
   "metadata": {},
   "source": [
    "### *<font color=blue>Split train_x and test_x</font>* \n",
    "As we have completed all categorical transformations, we will split the **train_x** and **test_x** again based on their incides. All numerical transformations or feature scaling will be done **separately** on these datasets."
   ]
  },
  {
   "cell_type": "code",
   "execution_count": 147,
   "metadata": {},
   "outputs": [
    {
     "name": "stdout",
     "output_type": "stream",
     "text": [
      "(19220, 156)\n",
      "(4806, 156)\n"
     ]
    }
   ],
   "source": [
    "train_x = df_full[:ntrain]\n",
    "test_x = df_full[ntrain:]\n",
    "print(train_x.shape)\n",
    "print(test_x.shape)"
   ]
  },
  {
   "cell_type": "markdown",
   "metadata": {},
   "source": [
    "<a id=\"num\"></a>\n",
    "## 4. Treat Numerical Columns on *train* set Saperately"
   ]
  },
  {
   "cell_type": "code",
   "execution_count": 148,
   "metadata": {},
   "outputs": [],
   "source": [
    "num_cols = ['Avg_cost_in_USD', 'user_rating__votes']\n",
    "train_num = train_x[num_cols]"
   ]
  },
  {
   "cell_type": "code",
   "execution_count": 149,
   "metadata": {},
   "outputs": [],
   "source": [
    "scaler = StandardScaler()\n",
    "train_num = scaler.fit_transform(train_num)"
   ]
  },
  {
   "cell_type": "code",
   "execution_count": 150,
   "metadata": {},
   "outputs": [],
   "source": [
    "train_x[num_cols] = scaler.transform(train_x[num_cols])"
   ]
  },
  {
   "cell_type": "markdown",
   "metadata": {},
   "source": [
    "<a id=\"nulls\"></a>\n",
    "## 5. Impute NULLS  on *train* set\n",
    "#### *\"main_cuisine\"* & *\"cuisine_count\"*"
   ]
  },
  {
   "cell_type": "markdown",
   "metadata": {},
   "source": [
    " **main_cuisine** has few null values which we can impute them using mode strategy. We can also, treat it even better by taking mode after grouping it with other featue. However, for now we will impute it in a simple way using **mode**."
   ]
  },
  {
   "cell_type": "code",
   "execution_count": 137,
   "metadata": {},
   "outputs": [],
   "source": [
    "train_x['main_cuisine'].fillna(train_x['main_cuisine'].mode()[0], inplace = True)"
   ]
  },
  {
   "cell_type": "code",
   "execution_count": 159,
   "metadata": {},
   "outputs": [],
   "source": [
    "train_x['cuisine_count'].fillna(1, inplace=True) #filling cuisine_count nulls with 1 as any restaurant will have atleast 1.\n",
    "train_x['cuisine_count']= train_x.cuisine_count.astype(int)"
   ]
  },
  {
   "cell_type": "markdown",
   "metadata": {},
   "source": [
    "[Go to Top](#top)"
   ]
  },
  {
   "cell_type": "markdown",
   "metadata": {},
   "source": [
    "<a id=\"ml\"></a>\n",
    "# Part IV MACHINE LEARNING"
   ]
  },
  {
   "cell_type": "markdown",
   "metadata": {},
   "source": [
    "<a id=\"baseline\"></a>\n",
    "## 1. Baseline Models\n",
    "### a. Initialize Models"
   ]
  },
  {
   "cell_type": "code",
   "execution_count": 151,
   "metadata": {},
   "outputs": [],
   "source": [
    "#ensemble\n",
    "gb = GradientBoostingRegressor()\n",
    "rf = RandomForestRegressor()\n",
    "ada = AdaBoostRegressor()\n",
    "#trees\n",
    "dt = tree.DecisionTreeRegressor()\n",
    "#linear models\n",
    "lr = LinearRegression()\n",
    "lass = Lasso()\n",
    "rcv = RidgeCV()\n",
    "#xgb\n",
    "xgb = XGBRegressor()\n",
    "\n",
    "models = [xgb, gb, rf, ada, dt, lr, lass, rcv]"
   ]
  },
  {
   "cell_type": "markdown",
   "metadata": {},
   "source": [
    "### b. Training"
   ]
  },
  {
   "cell_type": "code",
   "execution_count": 152,
   "metadata": {},
   "outputs": [
    {
     "name": "stdout",
     "output_type": "stream",
     "text": [
      "RidgeCV Train RMSE: 0.025374742573516487    |    R2: 0.9881232664448986\n"
     ]
    }
   ],
   "source": [
    "rcv.fit(train_x, train_y)\n",
    "\n",
    "rcv_tr_preds = rcv.predict(train_x)\n",
    "rcv_tr_rmse = mean_squared_error(rcv_tr_preds, train_y)\n",
    "rcv_tr_r2 = r2_score(rcv_tr_preds, train_y)\n",
    "print('RidgeCV Train RMSE: {}    |    R2: {}'.format(rcv_tr_rmse, rcv_tr_r2))   "
   ]
  },
  {
   "cell_type": "code",
   "execution_count": 153,
   "metadata": {},
   "outputs": [
    {
     "name": "stdout",
     "output_type": "stream",
     "text": [
      "XGB Train RMSE: 0.023409967334559696    |    R2: 0.9890361041356868\n"
     ]
    }
   ],
   "source": [
    "xgb.fit(train_x, train_y)\n",
    "\n",
    "xgb_tr_preds = xgb.predict(train_x)\n",
    "xgb_tr_rmse = mean_squared_error(xgb_tr_preds, train_y)\n",
    "xgb_tr_r2 = r2_score(xgb_tr_preds, train_y)\n",
    "print('XGB Train RMSE: {}    |    R2: {}'.format(xgb_tr_rmse, xgb_tr_r2))"
   ]
  },
  {
   "cell_type": "code",
   "execution_count": 156,
   "metadata": {},
   "outputs": [
    {
     "name": "stdout",
     "output_type": "stream",
     "text": [
      "Random Forest Train RMSE: 0.004607799137685929    |    R2: 0.9978582638464241\n"
     ]
    }
   ],
   "source": [
    "rf.fit(train_x, train_y)\n",
    "\n",
    "rf_tr_preds = rf.predict(train_x)\n",
    "rf_tr_rmse = mean_squared_error(rf_tr_preds, train_y)\n",
    "rf_tr_r2 = r2_score(rf_tr_preds, train_y)\n",
    "print('Random Forest Train RMSE: {}    |    R2: {}'.format(rf_tr_rmse, rf_tr_r2))"
   ]
  },
  {
   "cell_type": "code",
   "execution_count": 155,
   "metadata": {},
   "outputs": [
    {
     "name": "stdout",
     "output_type": "stream",
     "text": [
      "GradientBoosting Train RMSE: 0.023248077184663072    |    R2: 0.9891102070093949\n"
     ]
    }
   ],
   "source": [
    "gb.fit(train_x, train_y)\n",
    "\n",
    "gb_tr_preds = gb.predict(train_x)\n",
    "gb_tr_rmse = mean_squared_error(gb_tr_preds, train_y)\n",
    "gb_tr_r2 = r2_score(gb_tr_preds, train_y)\n",
    "print('GradientBoosting Train RMSE: {}    |    R2: {}'.format(gb_tr_rmse,gb_tr_r2))                       "
   ]
  },
  {
   "cell_type": "markdown",
   "metadata": {},
   "source": [
    "Clearly these models are reporting almost **Zero error** on train set. However, as we see the R2 is not that close to 99. There is a chance that these models are badly **overfitting** the data. Lets use **Cross Validation** and other resampling techniques to validate the model on **part of training set**."
   ]
  },
  {
   "cell_type": "markdown",
   "metadata": {},
   "source": [
    "<a id=\"eval\"></a>\n",
    "## 2. Evaluation & Model Comparision\n",
    "### a. Cross Validation"
   ]
  },
  {
   "cell_type": "code",
   "execution_count": 157,
   "metadata": {},
   "outputs": [
    {
     "name": "stdout",
     "output_type": "stream",
     "text": [
      "(19220, 156)\n"
     ]
    },
    {
     "data": {
      "text/html": [
       "<div>\n",
       "<style scoped>\n",
       "    .dataframe tbody tr th:only-of-type {\n",
       "        vertical-align: middle;\n",
       "    }\n",
       "\n",
       "    .dataframe tbody tr th {\n",
       "        vertical-align: top;\n",
       "    }\n",
       "\n",
       "    .dataframe thead th {\n",
       "        text-align: right;\n",
       "    }\n",
       "</style>\n",
       "<table border=\"1\" class=\"dataframe\">\n",
       "  <thead>\n",
       "    <tr style=\"text-align: right;\">\n",
       "      <th></th>\n",
       "      <th>Model Name</th>\n",
       "      <th>Mean RMSE</th>\n",
       "    </tr>\n",
       "  </thead>\n",
       "  <tbody>\n",
       "    <tr>\n",
       "      <th>0</th>\n",
       "      <td>XGBRegressor</td>\n",
       "      <td>0.155694</td>\n",
       "    </tr>\n",
       "    <tr>\n",
       "      <th>1</th>\n",
       "      <td>GradientBoostingRegressor</td>\n",
       "      <td>0.155964</td>\n",
       "    </tr>\n",
       "    <tr>\n",
       "      <th>2</th>\n",
       "      <td>RandomForestRegressor</td>\n",
       "      <td>0.160169</td>\n",
       "    </tr>\n",
       "    <tr>\n",
       "      <th>7</th>\n",
       "      <td>RidgeCV</td>\n",
       "      <td>0.160407</td>\n",
       "    </tr>\n",
       "    <tr>\n",
       "      <th>3</th>\n",
       "      <td>AdaBoostRegressor</td>\n",
       "      <td>0.195344</td>\n",
       "    </tr>\n",
       "    <tr>\n",
       "      <th>4</th>\n",
       "      <td>DecisionTreeRegressor</td>\n",
       "      <td>0.207895</td>\n",
       "    </tr>\n",
       "    <tr>\n",
       "      <th>6</th>\n",
       "      <td>Lasso</td>\n",
       "      <td>1.45918</td>\n",
       "    </tr>\n",
       "    <tr>\n",
       "      <th>5</th>\n",
       "      <td>LinearRegression</td>\n",
       "      <td>4.0436e+06</td>\n",
       "    </tr>\n",
       "  </tbody>\n",
       "</table>\n",
       "</div>"
      ],
      "text/plain": [
       "                  Model Name   Mean RMSE\n",
       "0               XGBRegressor    0.155694\n",
       "1  GradientBoostingRegressor    0.155964\n",
       "2      RandomForestRegressor    0.160169\n",
       "7                    RidgeCV    0.160407\n",
       "3          AdaBoostRegressor    0.195344\n",
       "4      DecisionTreeRegressor    0.207895\n",
       "6                      Lasso     1.45918\n",
       "5           LinearRegression  4.0436e+06"
      ]
     },
     "execution_count": 157,
     "metadata": {},
     "output_type": "execute_result"
    }
   ],
   "source": [
    "print(train_x.shape)\n",
    "Model_columns = ['Model Name', 'Mean RMSE']\n",
    "Model_compare = pd.DataFrame(columns=Model_columns)\n",
    "row_index = 0\n",
    "\n",
    "for alg in models:\n",
    "    Model_name = alg.__class__.__name__\n",
    "    Model_compare.loc[row_index, 'Model Name'] = Model_name\n",
    "    score = cross_val_score(alg, train_x, train_y, scoring = 'neg_mean_squared_error', cv =10)\n",
    "    rmse_scores = np.sqrt(-score)\n",
    "    Model_compare.loc[row_index, 'Mean RMSE'] =rmse_scores.mean()\n",
    "    \n",
    "    row_index+=1\n",
    "Model_compare.sort_values(by = ['Mean RMSE'], ascending = True, inplace=True)\n",
    "Model_compare"
   ]
  },
  {
   "cell_type": "markdown",
   "metadata": {},
   "source": [
    "#### Inference:\n",
    "**RMSE** scores are comparatively higher than our base models. This implies that though error slightly more, the models are less likely to overfit and make mistakes on **unseen** data.\n",
    "<br>By using **cross_val_score**, we have trained our models on 10 folds.<br>\n",
    "From the **RMSE score comparision**, we can consider the **top performed** models for our next steps such as hyperparameter tuning.<br>\n",
    "However, we can also consider a **different resampling technique** to finalize the top models. For this, we will now compare our models using **Bootstrapping**."
   ]
  },
  {
   "cell_type": "markdown",
   "metadata": {},
   "source": [
    "### b. BootStrapping"
   ]
  },
  {
   "cell_type": "code",
   "execution_count": 160,
   "metadata": {},
   "outputs": [
    {
     "data": {
      "text/html": [
       "<div>\n",
       "<style scoped>\n",
       "    .dataframe tbody tr th:only-of-type {\n",
       "        vertical-align: middle;\n",
       "    }\n",
       "\n",
       "    .dataframe tbody tr th {\n",
       "        vertical-align: top;\n",
       "    }\n",
       "\n",
       "    .dataframe thead th {\n",
       "        text-align: right;\n",
       "    }\n",
       "</style>\n",
       "<table border=\"1\" class=\"dataframe\">\n",
       "  <thead>\n",
       "    <tr style=\"text-align: right;\">\n",
       "      <th></th>\n",
       "      <th>MLA Name</th>\n",
       "      <th>Val RMSE</th>\n",
       "      <th>Val R2</th>\n",
       "      <th>Val MAE</th>\n",
       "    </tr>\n",
       "  </thead>\n",
       "  <tbody>\n",
       "    <tr>\n",
       "      <th>1</th>\n",
       "      <td>GradientBoostingRegressor</td>\n",
       "      <td>0.157819</td>\n",
       "      <td>0.988518</td>\n",
       "      <td>0.114066</td>\n",
       "    </tr>\n",
       "    <tr>\n",
       "      <th>0</th>\n",
       "      <td>XGBRegressor</td>\n",
       "      <td>0.157957</td>\n",
       "      <td>0.988498</td>\n",
       "      <td>0.114251</td>\n",
       "    </tr>\n",
       "    <tr>\n",
       "      <th>7</th>\n",
       "      <td>RidgeCV</td>\n",
       "      <td>0.161603</td>\n",
       "      <td>0.98796</td>\n",
       "      <td>0.120273</td>\n",
       "    </tr>\n",
       "    <tr>\n",
       "      <th>2</th>\n",
       "      <td>RandomForestRegressor</td>\n",
       "      <td>0.162341</td>\n",
       "      <td>0.987851</td>\n",
       "      <td>0.110789</td>\n",
       "    </tr>\n",
       "    <tr>\n",
       "      <th>3</th>\n",
       "      <td>AdaBoostRegressor</td>\n",
       "      <td>0.192371</td>\n",
       "      <td>0.982605</td>\n",
       "      <td>0.141341</td>\n",
       "    </tr>\n",
       "    <tr>\n",
       "      <th>4</th>\n",
       "      <td>DecisionTreeRegressor</td>\n",
       "      <td>0.207565</td>\n",
       "      <td>0.980138</td>\n",
       "      <td>0.133204</td>\n",
       "    </tr>\n",
       "    <tr>\n",
       "      <th>6</th>\n",
       "      <td>Lasso</td>\n",
       "      <td>1.46159</td>\n",
       "      <td>0.0154038</td>\n",
       "      <td>1.09393</td>\n",
       "    </tr>\n",
       "    <tr>\n",
       "      <th>5</th>\n",
       "      <td>LinearRegression</td>\n",
       "      <td>9.37314e+06</td>\n",
       "      <td>-2.22893e+14</td>\n",
       "      <td>107198</td>\n",
       "    </tr>\n",
       "  </tbody>\n",
       "</table>\n",
       "</div>"
      ],
      "text/plain": [
       "                    MLA Name     Val RMSE       Val R2   Val MAE\n",
       "1  GradientBoostingRegressor     0.157819     0.988518  0.114066\n",
       "0               XGBRegressor     0.157957     0.988498  0.114251\n",
       "7                    RidgeCV     0.161603      0.98796  0.120273\n",
       "2      RandomForestRegressor     0.162341     0.987851  0.110789\n",
       "3          AdaBoostRegressor     0.192371     0.982605  0.141341\n",
       "4      DecisionTreeRegressor     0.207565     0.980138  0.133204\n",
       "6                      Lasso      1.46159    0.0154038   1.09393\n",
       "5           LinearRegression  9.37314e+06 -2.22893e+14    107198"
      ]
     },
     "execution_count": 160,
     "metadata": {},
     "output_type": "execute_result"
    }
   ],
   "source": [
    "nrows = train_x.shape[0] #the number of rows of train dataset.\n",
    "all_indices = list(range(nrows))\n",
    "#create table to compare Model metrics\n",
    "MLA_columns = ['MLA Name', 'Val RMSE', 'Val R2', 'Val MAE']\n",
    "MLA_compare = pd.DataFrame(columns=MLA_columns)\n",
    "#index through Model and ave performance to table\n",
    "row_index=0\n",
    "for alg in models:          \n",
    "    MLA_name = alg.__class__.__name__\n",
    "    MLA_compare.loc[row_index, 'MLA Name'] = MLA_name  \n",
    "    sum_rmse, sum_r2, sum_mae = (0.0, 0.0, 0.0)\n",
    "    n = 10 #running the bootstrap for 10 iterations.\n",
    "    for i in range(n):\n",
    "        #for each iteration, randomly generate new train and validation set.\n",
    "        train_indices = resample(all_indices, replace=True, n_samples=int(0.7*nrows), random_state=i*32)\n",
    "        validation_indices = [index for index in list(range(nrows)) if index not in train_indices]\n",
    "    \n",
    "        new_train_x, new_train_y = (train_x.take(train_indices), train_y.take(train_indices)) \n",
    "        val_x, val_y = (train_x.take(validation_indices), train_y.take(validation_indices))\n",
    "        #try:\n",
    "        alg.fit(new_train_x, new_train_y) #fit the model on the new train set\n",
    "        \n",
    "        preds_val = alg.predict(val_x)#predict the labels on the validation set    \n",
    "        rmse_val = np.sqrt(mean_squared_error(val_y, preds_val))\n",
    "        r2_val = r2_score(val_y, preds_val)\n",
    "        mae_val = mean_absolute_error(val_y, preds_val)\n",
    "        sum_rmse += rmse_val\n",
    "        sum_r2 += r2_val\n",
    "        sum_mae += mae_val\n",
    "    mean_rmse = sum_rmse/n\n",
    "    mean_r2 = sum_r2/n\n",
    "    mean_mae = sum_mae/n \n",
    "    #print('Algorithm: {} | RMSE: {} | R2: {}'.format(MLA_name, mean_rmse, mean_r2))\n",
    "    MLA_compare.loc[row_index, 'Val RMSE'] = sum_rmse/n\n",
    "    MLA_compare.loc[row_index, 'Val R2'] = sum_r2/n\n",
    "    MLA_compare.loc[row_index, 'Val MAE'] = sum_mae/n\n",
    "           \n",
    "    row_index+=1\n",
    "#print and sort table\n",
    "MLA_compare.sort_values(by = ['Val RMSE'], ascending = True, inplace=True)\n",
    "MLA_compare"
   ]
  },
  {
   "cell_type": "markdown",
   "metadata": {},
   "source": [
    "By using **Cross Validation** and **BootStrapping** methods, we can confirm that the **top performing** alogrithms are:<br> **XGBRegressor** and <br>**GradientBoostingRegressor**<br>\n",
    "Alos, from train set performance and cross validation, **RandomForest** has also performed very well. So we will give it a chance too.\n",
    "<br>We will now tune these models using **GridSearchCV** to get the best set of **Hyperparameters**"
   ]
  },
  {
   "cell_type": "markdown",
   "metadata": {},
   "source": [
    "<a id=\"param\"></a>\n",
    "## 3. Parameter Tuning\n",
    "### GridSearchCV"
   ]
  },
  {
   "cell_type": "markdown",
   "metadata": {},
   "source": [
    "#### i. Tuning GradientBoosting"
   ]
  },
  {
   "cell_type": "code",
   "execution_count": 161,
   "metadata": {},
   "outputs": [
    {
     "data": {
      "text/markdown": [
       "**Best Parameters After Tuning:**"
      ],
      "text/plain": [
       "<IPython.core.display.Markdown object>"
      ]
     },
     "metadata": {},
     "output_type": "display_data"
    },
    {
     "name": "stdout",
     "output_type": "stream",
     "text": [
      "{'max_depth': 10, 'min_samples_leaf': 3, 'n_estimators': 60}\n",
      "GradientBoostingRegressor(alpha=0.9, criterion='friedman_mse', init=None,\n",
      "             learning_rate=0.1, loss='ls', max_depth=10, max_features=None,\n",
      "             max_leaf_nodes=None, min_impurity_decrease=0.0,\n",
      "             min_impurity_split=None, min_samples_leaf=3,\n",
      "             min_samples_split=2, min_weight_fraction_leaf=0.0,\n",
      "             n_estimators=60, n_iter_no_change=None, presort='auto',\n",
      "             random_state=None, subsample=1.0, tol=0.0001,\n",
      "             validation_fraction=0.1, verbose=0, warm_start=False)\n"
     ]
    }
   ],
   "source": [
    "#define list of parameters for the the GradientBoostingRegressor\n",
    "param_grid = {\"n_estimators\" : [60, 80],\n",
    "           \"max_depth\" : [10, 12],\n",
    "           \"min_samples_leaf\" : [2, 3]\n",
    "            }\n",
    "#define a tuned_tree using GridSearchCV with the above set param_grid and with 10 folds.\n",
    "gb_gs = GridSearchCV(gb, param_grid=param_grid, \n",
    "                           scoring = 'neg_mean_squared_error', cv =10)#Using scoring method as 'neg_mean_squared_error', model aims at reducing the MAE. \n",
    "#We can also try with other scoring methods.\n",
    "gb_gs.fit(train_x,train_y)\n",
    "printmd(\"**Best Parameters After Tuning:**\")\n",
    "print(gb_gs.best_params_)\n",
    "print(gb_gs.best_estimator_)"
   ]
  },
  {
   "cell_type": "markdown",
   "metadata": {},
   "source": [
    "#### ii. Tuning XGBRegressor"
   ]
  },
  {
   "cell_type": "code",
   "execution_count": 163,
   "metadata": {},
   "outputs": [
    {
     "data": {
      "text/markdown": [
       "**Best Parameters After Tuning:**"
      ],
      "text/plain": [
       "<IPython.core.display.Markdown object>"
      ]
     },
     "metadata": {},
     "output_type": "display_data"
    },
    {
     "name": "stdout",
     "output_type": "stream",
     "text": [
      "{'colsample_bytree': 0.6, 'max_depth': 3, 'n_estimators': 1000}\n",
      "XGBRegressor(base_score=0.5, booster='gbtree', colsample_bylevel=1,\n",
      "       colsample_bytree=0.6, gamma=0, learning_rate=0.1, max_delta_step=0,\n",
      "       max_depth=3, min_child_weight=1, missing=None, n_estimators=1000,\n",
      "       n_jobs=1, nthread=None, objective='reg:linear', random_state=0,\n",
      "       reg_alpha=0, reg_lambda=1, scale_pos_weight=1, seed=None,\n",
      "       silent=True, subsample=1)\n"
     ]
    }
   ],
   "source": [
    "#define list of parameters for the the DecisionBoostingRegressor\n",
    "param_grid_xgb = {\"n_estimators\" : [600, 1000],\n",
    "           \"max_depth\" : [3, 5, 6],\n",
    "           \"colsample_bytree\" : [0.4,0.6]\n",
    "            }\n",
    "xgb_gs = GridSearchCV(xgb, param_grid=param_grid_xgb, \n",
    "                           scoring = 'neg_mean_squared_error', cv =10)\n",
    "xgb_gs.fit(train_x,train_y)\n",
    "printmd(\"**Best Parameters After Tuning:**\")\n",
    "print(xgb_gs.best_params_)\n",
    "print(xgb_gs.best_estimator_)"
   ]
  },
  {
   "cell_type": "markdown",
   "metadata": {},
   "source": [
    "#### iii. Tuning RandomForestRegressor"
   ]
  },
  {
   "cell_type": "code",
   "execution_count": 164,
   "metadata": {},
   "outputs": [
    {
     "data": {
      "text/markdown": [
       "**Best Parameters After Tuning:**"
      ],
      "text/plain": [
       "<IPython.core.display.Markdown object>"
      ]
     },
     "metadata": {},
     "output_type": "display_data"
    },
    {
     "name": "stdout",
     "output_type": "stream",
     "text": [
      "{'max_depth': 10, 'min_samples_leaf': 10, 'n_estimators': 80}\n",
      "RandomForestRegressor(bootstrap=True, criterion='mse', max_depth=10,\n",
      "           max_features='auto', max_leaf_nodes=None,\n",
      "           min_impurity_decrease=0.0, min_impurity_split=None,\n",
      "           min_samples_leaf=10, min_samples_split=2,\n",
      "           min_weight_fraction_leaf=0.0, n_estimators=80, n_jobs=None,\n",
      "           oob_score=False, random_state=None, verbose=0, warm_start=False)\n"
     ]
    }
   ],
   "source": [
    "#define list of parameters for the the RandomForestRegressor\n",
    "param_grid = {\"n_estimators\" : [60, 80, 100],\n",
    "           \"max_depth\" : [8, 10],\n",
    "           \"min_samples_leaf\" : [ 10, 50]\n",
    "            }\n",
    "rf_gs = GridSearchCV(rf, param_grid=param_grid, \n",
    "                           scoring = 'neg_mean_squared_error', cv =10)\n",
    "rf_gs.fit(train_x,train_y)\n",
    "printmd(\"**Best Parameters After Tuning:**\")\n",
    "print(rf_gs.best_params_)\n",
    "print(rf_gs.best_estimator_)"
   ]
  },
  {
   "cell_type": "markdown",
   "metadata": {},
   "source": [
    "**Tuning** these models took considerably **lot of time** as we have tried mulitple parameters with different settings and ran these for **10 Folds**.<br>\n",
    "To avoid **computational costs** we can reduce the **folds** or **parameter settigs**. And if computational cost is not an issue, then we can try **more** parameter settings.<br>\n",
    "<br>\n",
    "We can use these **best estimators** to **predict** on **test dataset.**"
   ]
  },
  {
   "cell_type": "markdown",
   "metadata": {},
   "source": [
    "<a id=\"final\"></a>\n",
    "## 4. Final Models"
   ]
  },
  {
   "cell_type": "code",
   "execution_count": 165,
   "metadata": {},
   "outputs": [],
   "source": [
    "gb_final = gb_gs.best_estimator_"
   ]
  },
  {
   "cell_type": "code",
   "execution_count": 166,
   "metadata": {
    "scrolled": false
   },
   "outputs": [],
   "source": [
    "xgb_final = xgb_gs.best_estimator_"
   ]
  },
  {
   "cell_type": "code",
   "execution_count": 167,
   "metadata": {},
   "outputs": [],
   "source": [
    "rf_final = rf_gs.best_estimator_"
   ]
  },
  {
   "cell_type": "markdown",
   "metadata": {},
   "source": [
    "<a id=\"preds\"></a>\n",
    "## 5. Prediction\n",
    "### a. Treat Numerical Columns in Test Set.\n",
    "We have fitted the **scaler** on **train_x** set to scale the numerical variables. Now we will use the same to **transform the test_x** set. Hence we will **not use fit method** again."
   ]
  },
  {
   "cell_type": "code",
   "execution_count": 168,
   "metadata": {},
   "outputs": [],
   "source": [
    "test_x[num_cols] = scaler.transform(test_x[num_cols])"
   ]
  },
  {
   "cell_type": "markdown",
   "metadata": {},
   "source": [
    "### b. Impute NULLS  on *Test* set\n",
    "***main_cuisine*** & ***cuisine_count***"
   ]
  },
  {
   "cell_type": "code",
   "execution_count": 170,
   "metadata": {},
   "outputs": [],
   "source": [
    "test_x['main_cuisine'].fillna(test_x['main_cuisine'].mode()[0], inplace = True)"
   ]
  },
  {
   "cell_type": "code",
   "execution_count": 171,
   "metadata": {},
   "outputs": [],
   "source": [
    "test_x['cuisine_count'].fillna(1, inplace=True) #filling cuisine_count nulls with 1 as any restaurant will have atleast 1.\n",
    "test_x['cuisine_count']= test_x.cuisine_count.astype(int)"
   ]
  },
  {
   "cell_type": "code",
   "execution_count": 172,
   "metadata": {},
   "outputs": [
    {
     "name": "stdout",
     "output_type": "stream",
     "text": [
      "(4806, 156)\n",
      "(19220, 156)\n"
     ]
    }
   ],
   "source": [
    "print(test_x.shape)\n",
    "print(train_x.shape)"
   ]
  },
  {
   "cell_type": "markdown",
   "metadata": {},
   "source": [
    "### b. Predict using Final Models"
   ]
  },
  {
   "cell_type": "code",
   "execution_count": 173,
   "metadata": {},
   "outputs": [],
   "source": [
    "gb_test_preds = gb_final.predict(test_x) #final predictions using GradientBoosting best_estimator_\n",
    "xgb_test_preds = xgb_final.predict(test_x) #final predictions using XGBoost best_estimator_\n",
    "rf_test_preds = rf_final.predict(test_x) #final predictions using RandomForest best_estimator_"
   ]
  },
  {
   "cell_type": "markdown",
   "metadata": {},
   "source": [
    "### c. Evaluate Test Results"
   ]
  },
  {
   "cell_type": "code",
   "execution_count": 175,
   "metadata": {},
   "outputs": [
    {
     "name": "stdout",
     "output_type": "stream",
     "text": [
      "GradientBoosting Test RMSE:  0.02196519348959409    |    R2 Score:0.9902099198322961\n",
      "XGB Test RMSE:    0.02243800505412132    |    R2 Score:0.9900349829313505\n",
      "RandomForest Test RMSE:    0.021578188257859177    |    R2 Score:0.9904116442520285\n"
     ]
    }
   ],
   "source": [
    "gb_test_rmse = mean_squared_error(gb_test_preds, test_y)\n",
    "gb_test_r2 = r2_score(gb_test_preds, test_y)\n",
    "print('GradientBoosting Test RMSE:  {}    |    R2 Score:{}'.format(gb_test_rmse, gb_test_r2))  \n",
    "xgb_test_rmse = mean_squared_error(xgb_test_preds, test_y)\n",
    "xgb_test_r2 = r2_score(xgb_test_preds, test_y)\n",
    "print('XGB Test RMSE:    {}    |    R2 Score:{}'.format(xgb_test_rmse, xgb_test_r2))\n",
    "rf_test_rmse = mean_squared_error(rf_test_preds, test_y)\n",
    "rf_test_r2 = r2_score(rf_test_preds, test_y)\n",
    "print('RandomForest Test RMSE:    {}    |    R2 Score:{}'.format(rf_test_rmse, rf_test_r2))"
   ]
  },
  {
   "cell_type": "markdown",
   "metadata": {},
   "source": [
    "### Inference:\n",
    "From **Test RMSE** scores, we see that all models have performed really well on **unseen** data with minimal errors.<br>\n",
    "With **test R2 Squared** value standing at **0.99**, we can infer that our models have fitted the data very closely.<br>\n",
    "This also, implies that **best_estimators** have performed really great after **hyperparameter** tuning.   \n",
    "<br>\n",
    "Though, the error difference between the models are very less, we can consider **Random Forest** and **GradientBoosting** for further tweaking as their **RMSE** is comparatively better.<br>Also, one more **intersting observation** is that the RandomForest which has more error during cross validation(0.160(rf) vs 0.155(gb)) performed little better than other models, after hyperparameter tuning.<br>\n",
    "Hence, tt would be worthy tweaking more parameters using RandomForest and so we can use ***rf_final*** as our **final model**."
   ]
  },
  {
   "cell_type": "markdown",
   "metadata": {},
   "source": [
    "### Next Steps:\n",
    "\n",
    "We can further tweak our models by using auto feature selection, and other Feature engineering methods.<br>\n",
    "We can try manually dropping insignificant features using **feature_importances_** method from these best_estimators. <br>\n",
    "\n",
    "There could be **many** other possible and **innvotive ways** to make these models better.<br> We will explore further options and will continue our **learning...**"
   ]
  },
  {
   "cell_type": "markdown",
   "metadata": {},
   "source": [
    "<br>\n",
    "## &emsp;&emsp;&emsp;&emsp;&emsp;&emsp;&emsp;&emsp;&emsp;&emsp;&emsp;&emsp;&emsp;&emsp;&emsp;Thank You"
   ]
  },
  {
   "cell_type": "markdown",
   "metadata": {},
   "source": [
    "[Go to Top](#top)"
   ]
  },
  {
   "cell_type": "markdown",
   "metadata": {},
   "source": [
    "<a id=\"eda\"></a>\n",
    "# Exploratory Data Analysis"
   ]
  },
  {
   "cell_type": "code",
   "execution_count": 17,
   "metadata": {},
   "outputs": [
    {
     "data": {
      "text/html": [
       "<div>\n",
       "<style scoped>\n",
       "    .dataframe tbody tr th:only-of-type {\n",
       "        vertical-align: middle;\n",
       "    }\n",
       "\n",
       "    .dataframe tbody tr th {\n",
       "        vertical-align: top;\n",
       "    }\n",
       "\n",
       "    .dataframe thead th {\n",
       "        text-align: right;\n",
       "    }\n",
       "</style>\n",
       "<table border=\"1\" class=\"dataframe\">\n",
       "  <thead>\n",
       "    <tr style=\"text-align: right;\">\n",
       "      <th></th>\n",
       "      <th>id</th>\n",
       "      <th>average_cost_for_two</th>\n",
       "      <th>book_url</th>\n",
       "      <th>cuisines</th>\n",
       "      <th>currency</th>\n",
       "      <th>establishment_types__establishment_type__id</th>\n",
       "      <th>establishment_types__establishment_type__name</th>\n",
       "      <th>featured_image</th>\n",
       "      <th>has_online_delivery</th>\n",
       "      <th>has_table_booking</th>\n",
       "      <th>...</th>\n",
       "      <th>price_range</th>\n",
       "      <th>switch_to_order_menu</th>\n",
       "      <th>thumb</th>\n",
       "      <th>user_rating__custom_rating_text</th>\n",
       "      <th>user_rating__custom_rating_text_background</th>\n",
       "      <th>user_rating__rating_text</th>\n",
       "      <th>user_rating__rating_tool_tip</th>\n",
       "      <th>user_rating__votes</th>\n",
       "      <th>zomato_events</th>\n",
       "      <th>target</th>\n",
       "    </tr>\n",
       "  </thead>\n",
       "  <tbody>\n",
       "    <tr>\n",
       "      <th>11142</th>\n",
       "      <td>14972</td>\n",
       "      <td>250</td>\n",
       "      <td>NaN</td>\n",
       "      <td>Latin American</td>\n",
       "      <td>R</td>\n",
       "      <td>16</td>\n",
       "      <td>Casual Dining</td>\n",
       "      <td>NaN</td>\n",
       "      <td>0</td>\n",
       "      <td>0</td>\n",
       "      <td>...</td>\n",
       "      <td>3</td>\n",
       "      <td>0</td>\n",
       "      <td>NaN</td>\n",
       "      <td>NaN</td>\n",
       "      <td>NaN</td>\n",
       "      <td>Very Good</td>\n",
       "      <td>NaN</td>\n",
       "      <td>219</td>\n",
       "      <td>NaN</td>\n",
       "      <td>4.2</td>\n",
       "    </tr>\n",
       "    <tr>\n",
       "      <th>4546</th>\n",
       "      <td>6172</td>\n",
       "      <td>40</td>\n",
       "      <td>NaN</td>\n",
       "      <td>Desserts, Bakery, Ice Cream</td>\n",
       "      <td>$</td>\n",
       "      <td>23</td>\n",
       "      <td>Dessert Parlour</td>\n",
       "      <td>NaN</td>\n",
       "      <td>0</td>\n",
       "      <td>0</td>\n",
       "      <td>...</td>\n",
       "      <td>3</td>\n",
       "      <td>0</td>\n",
       "      <td>NaN</td>\n",
       "      <td>NaN</td>\n",
       "      <td>NaN</td>\n",
       "      <td>Average</td>\n",
       "      <td>NaN</td>\n",
       "      <td>2</td>\n",
       "      <td>NaN</td>\n",
       "      <td>2.6</td>\n",
       "    </tr>\n",
       "    <tr>\n",
       "      <th>13379</th>\n",
       "      <td>17899</td>\n",
       "      <td>60</td>\n",
       "      <td>NaN</td>\n",
       "      <td>Finger Food</td>\n",
       "      <td>NZ$</td>\n",
       "      <td>5</td>\n",
       "      <td>Lounge</td>\n",
       "      <td>https://b.zmtcdn.com/data/pictures/7/7003607/2...</td>\n",
       "      <td>0</td>\n",
       "      <td>0</td>\n",
       "      <td>...</td>\n",
       "      <td>3</td>\n",
       "      <td>0</td>\n",
       "      <td>https://b.zmtcdn.com/data/pictures/7/7003607/2...</td>\n",
       "      <td>NaN</td>\n",
       "      <td>NaN</td>\n",
       "      <td>Average</td>\n",
       "      <td>NaN</td>\n",
       "      <td>7</td>\n",
       "      <td>NaN</td>\n",
       "      <td>3.4</td>\n",
       "    </tr>\n",
       "    <tr>\n",
       "      <th>6046</th>\n",
       "      <td>8183</td>\n",
       "      <td>5000</td>\n",
       "      <td>NaN</td>\n",
       "      <td>Italian, Seafood, Desserts</td>\n",
       "      <td>LKR</td>\n",
       "      <td>18</td>\n",
       "      <td>Fine Dining</td>\n",
       "      <td>https://b.zmtcdn.com/data/res_imagery/5800678_...</td>\n",
       "      <td>0</td>\n",
       "      <td>0</td>\n",
       "      <td>...</td>\n",
       "      <td>4</td>\n",
       "      <td>0</td>\n",
       "      <td>https://b.zmtcdn.com/data/res_imagery/5800678_...</td>\n",
       "      <td>NaN</td>\n",
       "      <td>NaN</td>\n",
       "      <td>Very Good</td>\n",
       "      <td>NaN</td>\n",
       "      <td>165</td>\n",
       "      <td>NaN</td>\n",
       "      <td>4.4</td>\n",
       "    </tr>\n",
       "    <tr>\n",
       "      <th>23986</th>\n",
       "      <td>31928</td>\n",
       "      <td>45</td>\n",
       "      <td>NaN</td>\n",
       "      <td>Desserts</td>\n",
       "      <td>AED</td>\n",
       "      <td>23</td>\n",
       "      <td>Dessert Parlour</td>\n",
       "      <td>https://b.zmtcdn.com/data/reviews_photos/809/b...</td>\n",
       "      <td>1</td>\n",
       "      <td>0</td>\n",
       "      <td>...</td>\n",
       "      <td>2</td>\n",
       "      <td>0</td>\n",
       "      <td>https://b.zmtcdn.com/data/reviews_photos/809/b...</td>\n",
       "      <td>NaN</td>\n",
       "      <td>NaN</td>\n",
       "      <td>Good</td>\n",
       "      <td>NaN</td>\n",
       "      <td>14</td>\n",
       "      <td>NaN</td>\n",
       "      <td>3.6</td>\n",
       "    </tr>\n",
       "  </tbody>\n",
       "</table>\n",
       "<p>5 rows × 39 columns</p>\n",
       "</div>"
      ],
      "text/plain": [
       "          id  average_cost_for_two book_url                     cuisines  \\\n",
       "11142  14972                   250      NaN               Latin American   \n",
       "4546    6172                    40      NaN  Desserts, Bakery, Ice Cream   \n",
       "13379  17899                    60      NaN                  Finger Food   \n",
       "6046    8183                  5000      NaN   Italian, Seafood, Desserts   \n",
       "23986  31928                    45      NaN                     Desserts   \n",
       "\n",
       "      currency  establishment_types__establishment_type__id  \\\n",
       "11142        R                                           16   \n",
       "4546         $                                           23   \n",
       "13379      NZ$                                            5   \n",
       "6046       LKR                                           18   \n",
       "23986      AED                                           23   \n",
       "\n",
       "      establishment_types__establishment_type__name  \\\n",
       "11142                                 Casual Dining   \n",
       "4546                                Dessert Parlour   \n",
       "13379                                        Lounge   \n",
       "6046                                    Fine Dining   \n",
       "23986                               Dessert Parlour   \n",
       "\n",
       "                                          featured_image  has_online_delivery  \\\n",
       "11142                                                NaN                    0   \n",
       "4546                                                 NaN                    0   \n",
       "13379  https://b.zmtcdn.com/data/pictures/7/7003607/2...                    0   \n",
       "6046   https://b.zmtcdn.com/data/res_imagery/5800678_...                    0   \n",
       "23986  https://b.zmtcdn.com/data/reviews_photos/809/b...                    1   \n",
       "\n",
       "       has_table_booking   ...    price_range  switch_to_order_menu  \\\n",
       "11142                  0   ...              3                     0   \n",
       "4546                   0   ...              3                     0   \n",
       "13379                  0   ...              3                     0   \n",
       "6046                   0   ...              4                     0   \n",
       "23986                  0   ...              2                     0   \n",
       "\n",
       "                                                   thumb  \\\n",
       "11142                                                NaN   \n",
       "4546                                                 NaN   \n",
       "13379  https://b.zmtcdn.com/data/pictures/7/7003607/2...   \n",
       "6046   https://b.zmtcdn.com/data/res_imagery/5800678_...   \n",
       "23986  https://b.zmtcdn.com/data/reviews_photos/809/b...   \n",
       "\n",
       "       user_rating__custom_rating_text  \\\n",
       "11142                              NaN   \n",
       "4546                               NaN   \n",
       "13379                              NaN   \n",
       "6046                               NaN   \n",
       "23986                              NaN   \n",
       "\n",
       "       user_rating__custom_rating_text_background user_rating__rating_text  \\\n",
       "11142                                         NaN                Very Good   \n",
       "4546                                          NaN                  Average   \n",
       "13379                                         NaN                  Average   \n",
       "6046                                          NaN                Very Good   \n",
       "23986                                         NaN                     Good   \n",
       "\n",
       "      user_rating__rating_tool_tip  user_rating__votes  zomato_events  target  \n",
       "11142                          NaN                 219            NaN     4.2  \n",
       "4546                           NaN                   2            NaN     2.6  \n",
       "13379                          NaN                   7            NaN     3.4  \n",
       "6046                           NaN                 165            NaN     4.4  \n",
       "23986                          NaN                  14            NaN     3.6  \n",
       "\n",
       "[5 rows x 39 columns]"
      ]
     },
     "execution_count": 17,
     "metadata": {},
     "output_type": "execute_result"
    }
   ],
   "source": [
    "#This is our train split on which we will do the analysis.\n",
    "eda.head()"
   ]
  },
  {
   "cell_type": "markdown",
   "metadata": {},
   "source": [
    "### Dependant Variable\n",
    "We will do  countplot on our dependant variable in the train set. This gives a prelimenary understanding of our target variable distribution"
   ]
  },
  {
   "cell_type": "code",
   "execution_count": 34,
   "metadata": {},
   "outputs": [
    {
     "data": {
      "text/plain": [
       "<matplotlib.axes._subplots.AxesSubplot at 0x233008bbe10>"
      ]
     },
     "execution_count": 34,
     "metadata": {},
     "output_type": "execute_result"
    },
    {
     "data": {
      "image/png": "[encoded data removed]",
      "text/plain": [
       "<Figure size 720x432 with 1 Axes>"
      ]
     },
     "metadata": {},
     "output_type": "display_data"
    }
   ],
   "source": [
    "sns.countplot(eda.target)"
   ]
  },
  {
   "cell_type": "markdown",
   "metadata": {},
   "source": [
    "As we see, there are many **\"Not Rated\"** restaurants which are by default rated at **ZERO**. Otherwise, this looks like a perfect **normal distribution**."
   ]
  },
  {
   "cell_type": "markdown",
   "metadata": {},
   "source": [
    "### *user_rating__rating_text*"
   ]
  },
  {
   "cell_type": "code",
   "execution_count": 40,
   "metadata": {},
   "outputs": [
    {
     "data": {
      "text/html": [
       "<div>\n",
       "<style scoped>\n",
       "    .dataframe tbody tr th:only-of-type {\n",
       "        vertical-align: middle;\n",
       "    }\n",
       "\n",
       "    .dataframe tbody tr th {\n",
       "        vertical-align: top;\n",
       "    }\n",
       "\n",
       "    .dataframe thead th {\n",
       "        text-align: right;\n",
       "    }\n",
       "</style>\n",
       "<table border=\"1\" class=\"dataframe\">\n",
       "  <thead>\n",
       "    <tr style=\"text-align: right;\">\n",
       "      <th>target</th>\n",
       "      <th>0.0</th>\n",
       "      <th>1.8</th>\n",
       "      <th>2.0</th>\n",
       "      <th>2.1</th>\n",
       "      <th>2.2</th>\n",
       "      <th>2.3</th>\n",
       "      <th>2.4</th>\n",
       "      <th>2.5</th>\n",
       "      <th>2.6</th>\n",
       "      <th>2.7</th>\n",
       "      <th>...</th>\n",
       "      <th>4.0</th>\n",
       "      <th>4.1</th>\n",
       "      <th>4.2</th>\n",
       "      <th>4.3</th>\n",
       "      <th>4.4</th>\n",
       "      <th>4.5</th>\n",
       "      <th>4.6</th>\n",
       "      <th>4.7</th>\n",
       "      <th>4.8</th>\n",
       "      <th>4.9</th>\n",
       "    </tr>\n",
       "    <tr>\n",
       "      <th>user_rating__rating_text</th>\n",
       "      <th></th>\n",
       "      <th></th>\n",
       "      <th></th>\n",
       "      <th></th>\n",
       "      <th></th>\n",
       "      <th></th>\n",
       "      <th></th>\n",
       "      <th></th>\n",
       "      <th></th>\n",
       "      <th></th>\n",
       "      <th></th>\n",
       "      <th></th>\n",
       "      <th></th>\n",
       "      <th></th>\n",
       "      <th></th>\n",
       "      <th></th>\n",
       "      <th></th>\n",
       "      <th></th>\n",
       "      <th></th>\n",
       "      <th></th>\n",
       "      <th></th>\n",
       "    </tr>\n",
       "  </thead>\n",
       "  <tbody>\n",
       "    <tr>\n",
       "      <th>Average</th>\n",
       "      <td>0</td>\n",
       "      <td>0</td>\n",
       "      <td>0</td>\n",
       "      <td>0</td>\n",
       "      <td>0</td>\n",
       "      <td>0</td>\n",
       "      <td>0</td>\n",
       "      <td>101</td>\n",
       "      <td>156</td>\n",
       "      <td>246</td>\n",
       "      <td>...</td>\n",
       "      <td>0</td>\n",
       "      <td>0</td>\n",
       "      <td>0</td>\n",
       "      <td>0</td>\n",
       "      <td>0</td>\n",
       "      <td>0</td>\n",
       "      <td>0</td>\n",
       "      <td>0</td>\n",
       "      <td>0</td>\n",
       "      <td>0</td>\n",
       "    </tr>\n",
       "    <tr>\n",
       "      <th>Baik</th>\n",
       "      <td>0</td>\n",
       "      <td>0</td>\n",
       "      <td>0</td>\n",
       "      <td>0</td>\n",
       "      <td>0</td>\n",
       "      <td>0</td>\n",
       "      <td>0</td>\n",
       "      <td>0</td>\n",
       "      <td>0</td>\n",
       "      <td>0</td>\n",
       "      <td>...</td>\n",
       "      <td>0</td>\n",
       "      <td>0</td>\n",
       "      <td>0</td>\n",
       "      <td>0</td>\n",
       "      <td>0</td>\n",
       "      <td>0</td>\n",
       "      <td>0</td>\n",
       "      <td>0</td>\n",
       "      <td>0</td>\n",
       "      <td>0</td>\n",
       "    </tr>\n",
       "    <tr>\n",
       "      <th>Bardzo dobrze</th>\n",
       "      <td>0</td>\n",
       "      <td>0</td>\n",
       "      <td>0</td>\n",
       "      <td>0</td>\n",
       "      <td>0</td>\n",
       "      <td>0</td>\n",
       "      <td>0</td>\n",
       "      <td>0</td>\n",
       "      <td>0</td>\n",
       "      <td>0</td>\n",
       "      <td>...</td>\n",
       "      <td>1</td>\n",
       "      <td>3</td>\n",
       "      <td>0</td>\n",
       "      <td>0</td>\n",
       "      <td>0</td>\n",
       "      <td>0</td>\n",
       "      <td>0</td>\n",
       "      <td>0</td>\n",
       "      <td>0</td>\n",
       "      <td>0</td>\n",
       "    </tr>\n",
       "    <tr>\n",
       "      <th>Belum ada penilaian</th>\n",
       "      <td>2</td>\n",
       "      <td>0</td>\n",
       "      <td>0</td>\n",
       "      <td>0</td>\n",
       "      <td>0</td>\n",
       "      <td>0</td>\n",
       "      <td>0</td>\n",
       "      <td>0</td>\n",
       "      <td>0</td>\n",
       "      <td>0</td>\n",
       "      <td>...</td>\n",
       "      <td>0</td>\n",
       "      <td>0</td>\n",
       "      <td>0</td>\n",
       "      <td>0</td>\n",
       "      <td>0</td>\n",
       "      <td>0</td>\n",
       "      <td>0</td>\n",
       "      <td>0</td>\n",
       "      <td>0</td>\n",
       "      <td>0</td>\n",
       "    </tr>\n",
       "    <tr>\n",
       "      <th>Biasa</th>\n",
       "      <td>0</td>\n",
       "      <td>0</td>\n",
       "      <td>0</td>\n",
       "      <td>0</td>\n",
       "      <td>0</td>\n",
       "      <td>0</td>\n",
       "      <td>0</td>\n",
       "      <td>1</td>\n",
       "      <td>0</td>\n",
       "      <td>0</td>\n",
       "      <td>...</td>\n",
       "      <td>0</td>\n",
       "      <td>0</td>\n",
       "      <td>0</td>\n",
       "      <td>0</td>\n",
       "      <td>0</td>\n",
       "      <td>0</td>\n",
       "      <td>0</td>\n",
       "      <td>0</td>\n",
       "      <td>0</td>\n",
       "      <td>0</td>\n",
       "    </tr>\n",
       "    <tr>\n",
       "      <th>Bom</th>\n",
       "      <td>0</td>\n",
       "      <td>0</td>\n",
       "      <td>0</td>\n",
       "      <td>0</td>\n",
       "      <td>0</td>\n",
       "      <td>0</td>\n",
       "      <td>0</td>\n",
       "      <td>0</td>\n",
       "      <td>0</td>\n",
       "      <td>0</td>\n",
       "      <td>...</td>\n",
       "      <td>0</td>\n",
       "      <td>0</td>\n",
       "      <td>0</td>\n",
       "      <td>0</td>\n",
       "      <td>0</td>\n",
       "      <td>0</td>\n",
       "      <td>0</td>\n",
       "      <td>0</td>\n",
       "      <td>0</td>\n",
       "      <td>0</td>\n",
       "    </tr>\n",
       "  </tbody>\n",
       "</table>\n",
       "<p>6 rows × 32 columns</p>\n",
       "</div>"
      ],
      "text/plain": [
       "target                    0.0  1.8  2.0  2.1  2.2  2.3  2.4  2.5  2.6  2.7  \\\n",
       "user_rating__rating_text                                                     \n",
       "Average                     0    0    0    0    0    0    0  101  156  246   \n",
       "Baik                        0    0    0    0    0    0    0    0    0    0   \n",
       "Bardzo dobrze               0    0    0    0    0    0    0    0    0    0   \n",
       "Belum ada penilaian         2    0    0    0    0    0    0    0    0    0   \n",
       "Biasa                       0    0    0    0    0    0    0    1    0    0   \n",
       "Bom                         0    0    0    0    0    0    0    0    0    0   \n",
       "\n",
       "target                   ...   4.0  4.1  4.2  4.3  4.4  4.5  4.6  4.7  4.8  \\\n",
       "user_rating__rating_text ...                                                 \n",
       "Average                  ...     0    0    0    0    0    0    0    0    0   \n",
       "Baik                     ...     0    0    0    0    0    0    0    0    0   \n",
       "Bardzo dobrze            ...     1    3    0    0    0    0    0    0    0   \n",
       "Belum ada penilaian      ...     0    0    0    0    0    0    0    0    0   \n",
       "Biasa                    ...     0    0    0    0    0    0    0    0    0   \n",
       "Bom                      ...     0    0    0    0    0    0    0    0    0   \n",
       "\n",
       "target                    4.9  \n",
       "user_rating__rating_text       \n",
       "Average                     0  \n",
       "Baik                        0  \n",
       "Bardzo dobrze               0  \n",
       "Belum ada penilaian         0  \n",
       "Biasa                       0  \n",
       "Bom                         0  \n",
       "\n",
       "[6 rows x 32 columns]"
      ]
     },
     "execution_count": 40,
     "metadata": {},
     "output_type": "execute_result"
    }
   ],
   "source": [
    "pd.crosstab(eda.user_rating__rating_text,eda.target).head(6)"
   ]
  },
  {
   "cell_type": "code",
   "execution_count": 38,
   "metadata": {},
   "outputs": [
    {
     "data": {
      "text/plain": [
       "<matplotlib.axes._subplots.AxesSubplot at 0x23306ffad68>"
      ]
     },
     "execution_count": 38,
     "metadata": {},
     "output_type": "execute_result"
    },
    {
     "data": {
      "image/png": "[encoded data removed]",
      "text/plain": [
       "<Figure size 720x432 with 1 Axes>"
      ]
     },
     "metadata": {},
     "output_type": "display_data"
    }
   ],
   "source": [
    "eda.user_rating__rating_text.value_counts().plot(kind = 'bar')"
   ]
  },
  {
   "cell_type": "code",
   "execution_count": 32,
   "metadata": {},
   "outputs": [
    {
     "data": {
      "text/plain": [
       "Good         6033\n",
       "Very Good    4454\n",
       "Average      4213\n",
       "Not rated    3267\n",
       "Excellent     935\n",
       "Name: user_rating__rating_text, dtype: int64"
      ]
     },
     "execution_count": 32,
     "metadata": {},
     "output_type": "execute_result"
    }
   ],
   "source": [
    "eda_val.user_rating__rating_text.value_counts()[0:5]"
   ]
  },
  {
   "cell_type": "markdown",
   "metadata": {},
   "source": [
    "#### From this we can infer that:\n",
    "1. This feature has **direct relationship** to the ratings range. for eg: ratings for **Good** label always lie between **3.5-4.0** and rating for **Very Good** always lie between **4.0 - 4.5** and so on.\n",
    "2. However, apart from english labels there are other labels in **different languages** which also have the same relationship to dependant variable. So we will treat this column to **group all language labels to english**."
   ]
  },
  {
   "cell_type": "markdown",
   "metadata": {},
   "source": [
    "### Find Obviously Insignificant Columns\n",
    "#### We can drop columns with:\n",
    "&emsp;&emsp;&emsp;&emsp;&emsp;&emsp; 1. Highest percent of **MISSING** value<br>\n",
    "&emsp;&emsp;&emsp;&emsp;&emsp;&emsp; 2. Duplicate or **Redundant** columns<br>\n",
    "&emsp;&emsp;&emsp;&emsp;&emsp;&emsp; 3. Columns with almost all **UNIQUE** categories<br>\n",
    "&emsp;&emsp;&emsp;&emsp;&emsp;&emsp; 4. Highest percent of single dominating category"
   ]
  },
  {
   "cell_type": "markdown",
   "metadata": {},
   "source": [
    "#### MISSING VALUES Proportion"
   ]
  },
  {
   "cell_type": "code",
   "execution_count": 21,
   "metadata": {},
   "outputs": [
    {
     "name": "stdout",
     "output_type": "stream",
     "text": [
      "Train_x Shape: (19220, 39)\n"
     ]
    },
    {
     "data": {
      "text/html": [
       "<div>\n",
       "<style scoped>\n",
       "    .dataframe tbody tr th:only-of-type {\n",
       "        vertical-align: middle;\n",
       "    }\n",
       "\n",
       "    .dataframe tbody tr th {\n",
       "        vertical-align: top;\n",
       "    }\n",
       "\n",
       "    .dataframe thead th {\n",
       "        text-align: right;\n",
       "    }\n",
       "</style>\n",
       "<table border=\"1\" class=\"dataframe\">\n",
       "  <thead>\n",
       "    <tr style=\"text-align: right;\">\n",
       "      <th></th>\n",
       "      <th>Missing Ratio</th>\n",
       "    </tr>\n",
       "  </thead>\n",
       "  <tbody>\n",
       "    <tr>\n",
       "      <th>user_rating__rating_tool_tip</th>\n",
       "      <td>98.772112</td>\n",
       "    </tr>\n",
       "    <tr>\n",
       "      <th>user_rating__custom_rating_text_background</th>\n",
       "      <td>98.772112</td>\n",
       "    </tr>\n",
       "    <tr>\n",
       "      <th>user_rating__custom_rating_text</th>\n",
       "      <td>98.772112</td>\n",
       "    </tr>\n",
       "    <tr>\n",
       "      <th>medio_provider</th>\n",
       "      <td>98.293444</td>\n",
       "    </tr>\n",
       "    <tr>\n",
       "      <th>zomato_events</th>\n",
       "      <td>97.939646</td>\n",
       "    </tr>\n",
       "    <tr>\n",
       "      <th>book_url</th>\n",
       "      <td>97.788762</td>\n",
       "    </tr>\n",
       "    <tr>\n",
       "      <th>location__zipcode</th>\n",
       "      <td>68.943809</td>\n",
       "    </tr>\n",
       "    <tr>\n",
       "      <th>thumb</th>\n",
       "      <td>40.166493</td>\n",
       "    </tr>\n",
       "    <tr>\n",
       "      <th>featured_image</th>\n",
       "      <td>40.166493</td>\n",
       "    </tr>\n",
       "    <tr>\n",
       "      <th>currency</th>\n",
       "      <td>0.359001</td>\n",
       "    </tr>\n",
       "    <tr>\n",
       "      <th>opentable_support</th>\n",
       "      <td>0.098855</td>\n",
       "    </tr>\n",
       "    <tr>\n",
       "      <th>mezzo_provider</th>\n",
       "      <td>0.098855</td>\n",
       "    </tr>\n",
       "    <tr>\n",
       "      <th>is_zomato_book_res</th>\n",
       "      <td>0.098855</td>\n",
       "    </tr>\n",
       "    <tr>\n",
       "      <th>is_book_form_web_view</th>\n",
       "      <td>0.098855</td>\n",
       "    </tr>\n",
       "    <tr>\n",
       "      <th>cuisines</th>\n",
       "      <td>0.031217</td>\n",
       "    </tr>\n",
       "  </tbody>\n",
       "</table>\n",
       "</div>"
      ],
      "text/plain": [
       "                                            Missing Ratio\n",
       "user_rating__rating_tool_tip                    98.772112\n",
       "user_rating__custom_rating_text_background      98.772112\n",
       "user_rating__custom_rating_text                 98.772112\n",
       "medio_provider                                  98.293444\n",
       "zomato_events                                   97.939646\n",
       "book_url                                        97.788762\n",
       "location__zipcode                               68.943809\n",
       "thumb                                           40.166493\n",
       "featured_image                                  40.166493\n",
       "currency                                         0.359001\n",
       "opentable_support                                0.098855\n",
       "mezzo_provider                                   0.098855\n",
       "is_zomato_book_res                               0.098855\n",
       "is_book_form_web_view                            0.098855\n",
       "cuisines                                         0.031217"
      ]
     },
     "execution_count": 21,
     "metadata": {},
     "output_type": "execute_result"
    }
   ],
   "source": [
    "eda_na = (eda.isnull().sum() / len(eda)) * 100\n",
    "eda_na = eda_na.drop(eda_na[eda_na == 0].index).sort_values(ascending=False)[:30]\n",
    "missing_data = pd.DataFrame({'Missing Ratio' :eda_na})\n",
    "print(\"Train_x Shape:\",eda.shape)\n",
    "missing_data.head(20)"
   ]
  },
  {
   "cell_type": "markdown",
   "metadata": {},
   "source": [
    "#### 1. Columns with missing values >70%\n",
    "'user_rating__rating_tool_tip','user_rating__custom_rating_text_background',<br>'user_rating__custom_rating_text','medio_provider','zomato_events','book_url','location__zipcode'\n",
    "#### 2. Columns that are duplicate or alias to other columns (we can drop one of these)\n",
    "'establishment_types__establishment_type__name' **is alias to** 'establishment_types__establishment_type__id'<br>\n",
    "'location__city_id', 'location__locality', 'location__locality_verbose' **are alias to** 'location__city'<br>\n",
    "'featured_image' **is alias to** 'thumb\n",
    "#### 3. Columns that have almost all unique categories\n",
    "'id', 'name', 'location__latitude', 'location__longitude'\n",
    "#### 4. Columns with highest percent of Single dominating categories\n",
    "Let's explore using value counts"
   ]
  },
  {
   "cell_type": "code",
   "execution_count": 23,
   "metadata": {},
   "outputs": [],
   "source": [
    "#drop columns identified from first three rules\n",
    "drop_cols = ['user_rating__rating_tool_tip','user_rating__custom_rating_text_background',\n",
    "'user_rating__custom_rating_text','medio_provider','zomato_events','book_url','location__zipcode',\n",
    "           'establishment_types__establishment_type__name', 'location__city_id', 'id', 'thumb','featured_image', 'name' ]\n",
    "eda.drop(drop_cols, axis=1, inplace=True)"
   ]
  },
  {
   "cell_type": "code",
   "execution_count": 24,
   "metadata": {},
   "outputs": [
    {
     "data": {
      "text/plain": [
       "Index(['average_cost_for_two', 'cuisines', 'currency',\n",
       "       'establishment_types__establishment_type__id', 'has_online_delivery',\n",
       "       'has_table_booking', 'include_bogo_offers', 'is_book_form_web_view',\n",
       "       'is_delivering_now', 'is_table_reservation_supported',\n",
       "       'is_zomato_book_res', 'location__address', 'location__city',\n",
       "       'location__country_id', 'location__latitude', 'location__locality',\n",
       "       'location__locality_verbose', 'location__longitude', 'mezzo_provider',\n",
       "       'offers', 'opentable_support', 'price_range', 'switch_to_order_menu',\n",
       "       'user_rating__rating_text', 'user_rating__votes', 'target'],\n",
       "      dtype='object')"
      ]
     },
     "execution_count": 24,
     "metadata": {},
     "output_type": "execute_result"
    }
   ],
   "source": [
    "eda.columns"
   ]
  },
  {
   "cell_type": "markdown",
   "metadata": {},
   "source": [
    "Split these columns to **Numeric** columns, **Value_count_columns** (for looking at the category distribution) and **geo_columns** as these are more obvious columns."
   ]
  },
  {
   "cell_type": "code",
   "execution_count": 25,
   "metadata": {},
   "outputs": [],
   "source": [
    "num_cols = ['average_cost_for_two','user_rating__votes']\n",
    "val_count_cols = ['has_online_delivery','has_table_booking', 'include_bogo_offers', 'is_book_form_web_view',\n",
    "       'is_delivering_now', 'is_table_reservation_supported','switch_to_order_menu','opentable_support',\n",
    "       'is_zomato_book_res','mezzo_provider', 'price_range','user_rating__rating_text', 'offers', 'cuisines', 'currency']\n",
    "geo_cols = ['establishment_types__establishment_type__id', 'location__city',\n",
    "            'location__country_id','location__latitude','location__locality','location__locality_verbose','location__longitude']"
   ]
  },
  {
   "cell_type": "code",
   "execution_count": 26,
   "metadata": {},
   "outputs": [],
   "source": [
    "eda_val = eda[val_count_cols]"
   ]
  },
  {
   "cell_type": "code",
   "execution_count": 27,
   "metadata": {},
   "outputs": [
    {
     "data": {
      "text/html": [
       "<div>\n",
       "<style scoped>\n",
       "    .dataframe tbody tr th:only-of-type {\n",
       "        vertical-align: middle;\n",
       "    }\n",
       "\n",
       "    .dataframe tbody tr th {\n",
       "        vertical-align: top;\n",
       "    }\n",
       "\n",
       "    .dataframe thead th {\n",
       "        text-align: right;\n",
       "    }\n",
       "</style>\n",
       "<table border=\"1\" class=\"dataframe\">\n",
       "  <thead>\n",
       "    <tr style=\"text-align: right;\">\n",
       "      <th></th>\n",
       "      <th>has_online_delivery</th>\n",
       "      <th>has_table_booking</th>\n",
       "      <th>include_bogo_offers</th>\n",
       "      <th>is_book_form_web_view</th>\n",
       "      <th>is_delivering_now</th>\n",
       "      <th>is_table_reservation_supported</th>\n",
       "    </tr>\n",
       "  </thead>\n",
       "  <tbody>\n",
       "    <tr>\n",
       "      <th>0</th>\n",
       "      <td>16875</td>\n",
       "      <td>18795</td>\n",
       "      <td>NaN</td>\n",
       "      <td>19201.0</td>\n",
       "      <td>17546</td>\n",
       "      <td>18696</td>\n",
       "    </tr>\n",
       "    <tr>\n",
       "      <th>1</th>\n",
       "      <td>2345</td>\n",
       "      <td>425</td>\n",
       "      <td>19220.0</td>\n",
       "      <td>NaN</td>\n",
       "      <td>1674</td>\n",
       "      <td>524</td>\n",
       "    </tr>\n",
       "  </tbody>\n",
       "</table>\n",
       "</div>"
      ],
      "text/plain": [
       "   has_online_delivery  has_table_booking  include_bogo_offers  \\\n",
       "0                16875              18795                  NaN   \n",
       "1                 2345                425              19220.0   \n",
       "\n",
       "   is_book_form_web_view  is_delivering_now  is_table_reservation_supported  \n",
       "0                19201.0              17546                           18696  \n",
       "1                    NaN               1674                             524  "
      ]
     },
     "execution_count": 27,
     "metadata": {},
     "output_type": "execute_result"
    }
   ],
   "source": [
    "eda_val.iloc[:,0:6].apply(pd.Series.value_counts)"
   ]
  },
  {
   "cell_type": "markdown",
   "metadata": {},
   "source": [
    "We can **drop** all the above columns except *'has_online_delivery'*. As we see all of them are **Single Category** dominating columns or otherwise nulls.<br> If a column has only one category, it wont be instrumental in predicting the outcomes."
   ]
  },
  {
   "cell_type": "code",
   "execution_count": 28,
   "metadata": {},
   "outputs": [
    {
     "data": {
      "text/html": [
       "<div>\n",
       "<style scoped>\n",
       "    .dataframe tbody tr th:only-of-type {\n",
       "        vertical-align: middle;\n",
       "    }\n",
       "\n",
       "    .dataframe tbody tr th {\n",
       "        vertical-align: top;\n",
       "    }\n",
       "\n",
       "    .dataframe thead th {\n",
       "        text-align: right;\n",
       "    }\n",
       "</style>\n",
       "<table border=\"1\" class=\"dataframe\">\n",
       "  <thead>\n",
       "    <tr style=\"text-align: right;\">\n",
       "      <th></th>\n",
       "      <th>switch_to_order_menu</th>\n",
       "      <th>opentable_support</th>\n",
       "      <th>is_zomato_book_res</th>\n",
       "    </tr>\n",
       "  </thead>\n",
       "  <tbody>\n",
       "    <tr>\n",
       "      <th>0.0</th>\n",
       "      <td>19220.0</td>\n",
       "      <td>19201.0</td>\n",
       "      <td>19088</td>\n",
       "    </tr>\n",
       "    <tr>\n",
       "      <th>1.0</th>\n",
       "      <td>NaN</td>\n",
       "      <td>NaN</td>\n",
       "      <td>113</td>\n",
       "    </tr>\n",
       "  </tbody>\n",
       "</table>\n",
       "</div>"
      ],
      "text/plain": [
       "     switch_to_order_menu  opentable_support  is_zomato_book_res\n",
       "0.0               19220.0            19201.0               19088\n",
       "1.0                   NaN                NaN                 113"
      ]
     },
     "execution_count": 28,
     "metadata": {},
     "output_type": "execute_result"
    }
   ],
   "source": [
    "eda_val.iloc[:,6:9].apply(pd.Series.value_counts)"
   ]
  },
  {
   "cell_type": "markdown",
   "metadata": {},
   "source": [
    "We can **drop** all the above columns for the same reason that they are **>99%** data with a single category."
   ]
  },
  {
   "cell_type": "code",
   "execution_count": 31,
   "metadata": {},
   "outputs": [
    {
     "data": {
      "text/html": [
       "<div>\n",
       "<style scoped>\n",
       "    .dataframe tbody tr th:only-of-type {\n",
       "        vertical-align: middle;\n",
       "    }\n",
       "\n",
       "    .dataframe tbody tr th {\n",
       "        vertical-align: top;\n",
       "    }\n",
       "\n",
       "    .dataframe thead th {\n",
       "        text-align: right;\n",
       "    }\n",
       "</style>\n",
       "<table border=\"1\" class=\"dataframe\">\n",
       "  <thead>\n",
       "    <tr style=\"text-align: right;\">\n",
       "      <th></th>\n",
       "      <th>mezzo_provider</th>\n",
       "      <th>price_range</th>\n",
       "    </tr>\n",
       "  </thead>\n",
       "  <tbody>\n",
       "    <tr>\n",
       "      <th>OTHER</th>\n",
       "      <td>18940.0</td>\n",
       "      <td>NaN</td>\n",
       "    </tr>\n",
       "    <tr>\n",
       "      <th>ZOMATO_BOOK</th>\n",
       "      <td>113.0</td>\n",
       "      <td>NaN</td>\n",
       "    </tr>\n",
       "    <tr>\n",
       "      <th>BOOKATABLE</th>\n",
       "      <td>83.0</td>\n",
       "      <td>NaN</td>\n",
       "    </tr>\n",
       "    <tr>\n",
       "      <th>QUANDOO</th>\n",
       "      <td>53.0</td>\n",
       "      <td>NaN</td>\n",
       "    </tr>\n",
       "    <tr>\n",
       "      <th>SEVENROOMS</th>\n",
       "      <td>11.0</td>\n",
       "      <td>NaN</td>\n",
       "    </tr>\n",
       "    <tr>\n",
       "      <th>SHAWMAN</th>\n",
       "      <td>1.0</td>\n",
       "      <td>NaN</td>\n",
       "    </tr>\n",
       "    <tr>\n",
       "      <th>2</th>\n",
       "      <td>NaN</td>\n",
       "      <td>6380.0</td>\n",
       "    </tr>\n",
       "    <tr>\n",
       "      <th>3</th>\n",
       "      <td>NaN</td>\n",
       "      <td>4812.0</td>\n",
       "    </tr>\n",
       "    <tr>\n",
       "      <th>4</th>\n",
       "      <td>NaN</td>\n",
       "      <td>4043.0</td>\n",
       "    </tr>\n",
       "    <tr>\n",
       "      <th>1</th>\n",
       "      <td>NaN</td>\n",
       "      <td>3985.0</td>\n",
       "    </tr>\n",
       "  </tbody>\n",
       "</table>\n",
       "</div>"
      ],
      "text/plain": [
       "             mezzo_provider  price_range\n",
       "OTHER               18940.0          NaN\n",
       "ZOMATO_BOOK           113.0          NaN\n",
       "BOOKATABLE             83.0          NaN\n",
       "QUANDOO                53.0          NaN\n",
       "SEVENROOMS             11.0          NaN\n",
       "SHAWMAN                 1.0          NaN\n",
       "2                       NaN       6380.0\n",
       "3                       NaN       4812.0\n",
       "4                       NaN       4043.0\n",
       "1                       NaN       3985.0"
      ]
     },
     "execution_count": 31,
     "metadata": {},
     "output_type": "execute_result"
    }
   ],
   "source": [
    "eda_val.iloc[:,9:11].apply(pd.Series.value_counts)"
   ]
  },
  {
   "cell_type": "markdown",
   "metadata": {},
   "source": [
    "We can drop ***mezzo_provider*** as 98% of observations are of **OTHER** category. <br>\n",
    "However, we will keep the **price range** as it seems to be evenly distributed and significant.<br>\n",
    "Lets explore if this has any relation to the **dependant variable**."
   ]
  },
  {
   "cell_type": "code",
   "execution_count": null,
   "metadata": {},
   "outputs": [],
   "source": [
    "pd.crosstab(eda.price_range, eda.target).plot(kind='bar')"
   ]
  },
  {
   "cell_type": "code",
   "execution_count": 33,
   "metadata": {},
   "outputs": [
    {
     "data": {
      "text/plain": [
       "[]                                                                                                                                                                                                                                                                                                                                                                                                                                                                                                                                                                                                                                                                                                                                                                                                                                                                                                                                                            19208\n",
       "[{'offer': {'offer_id': 710156, 'voucher_id': 4445227, 'offer_text': '10% off on all dine-in and home-delivery orders. Offer on home-delivery only applicable when you order online on Zomato.', 'date_added': '2018-10-31 21:35:32', 'added_by': 29754764, 'is_active': 1, 'start_date': '2018-11-05', 'end_date': '2018-12-05', 'status': 1, 'type': 'Discount', 'disclaimer': 'Promos are added and controlled by restaurants. Zomato is not liable for promos not being honored.', 'restaurants': ['18233313', '209961'], 'restaurant_list': [], 'share_url': 'http://www.zoma.to/o/xavkz', 'show_share_url': 0, 'share_data': {'should_show': 0, 'link': 'http://www.zoma.to/o/xavkz', 'text': 'Check out this Discount at  on @Zomato!'}, 'is_valid': 1, 'impressions': -1, 'type_code': 0, 'is_editable': 1, 'friendly_start_date': '05 November', 'friendly_end_date': '05 December', 'applicable_on': 4, 'offer_type': 'DELIVERY', 'res_id': 0}}]        1\n",
       "Name: offers, dtype: int64"
      ]
     },
     "execution_count": 33,
     "metadata": {},
     "output_type": "execute_result"
    }
   ],
   "source": [
    "eda_val.offers.value_counts()[0:2]"
   ]
  },
  {
   "cell_type": "markdown",
   "metadata": {},
   "source": [
    "There is one category that has highest obeservations and rest all are unique offer codes. For now, we will not take effort in doing feature engineering for this column and drop it."
   ]
  },
  {
   "cell_type": "markdown",
   "metadata": {},
   "source": [
    "### Other columns:\n",
    "We will drop ***'latitude'*** and ***'longitude'*** columns as at this instance, we are not sure how to make use of them in a meaningful way. We have to explore more on that."
   ]
  },
  {
   "cell_type": "markdown",
   "metadata": {},
   "source": [
    "### Final list of Columns that has to be dropped\n",
    "'user_rating__rating_tool_tip','user_rating__custom_rating_text_background','user_rating__custom_rating_text',\n",
    "             'medio_provider', 'zomato_events', 'book_url','location__zipcode', 'establishment_types__establishment_type__name',\n",
    "            'location__city_id','featured_image','location__address','location__locality','location__locality_verbose', 'id', \n",
    "             'name', 'location__latitude', 'location__longitude', 'include_bogo_offers', 'is_book_form_web_view', \n",
    "            'is_table_reservation_supported', 'is_zomato_book_res','mezzo_provider','opentable_support', 'switch_to_order_menu'"
   ]
  },
  {
   "cell_type": "markdown",
   "metadata": {},
   "source": [
    "#### *currency*"
   ]
  },
  {
   "cell_type": "code",
   "execution_count": 100,
   "metadata": {},
   "outputs": [
    {
     "data": {
      "text/plain": [
       "<matplotlib.axes._subplots.AxesSubplot at 0x2330bdb5c50>"
      ]
     },
     "execution_count": 100,
     "metadata": {},
     "output_type": "execute_result"
    },
    {
     "data": {
      "image/png": "[encoded data removed]",
      "text/plain": [
       "<Figure size 720x432 with 1 Axes>"
      ]
     },
     "metadata": {},
     "output_type": "display_data"
    }
   ],
   "source": [
    "eda.currency.value_counts().plot(kind='bar')"
   ]
  },
  {
   "cell_type": "markdown",
   "metadata": {},
   "source": [
    "We have to **convert** all currencies to single currency. We will use **US Dollar** as a standard currency."
   ]
  },
  {
   "cell_type": "code",
   "execution_count": 102,
   "metadata": {
    "scrolled": false
   },
   "outputs": [
    {
     "data": {
      "text/plain": [
       "<matplotlib.axes._subplots.AxesSubplot at 0x23308f8cef0>"
      ]
     },
     "execution_count": 102,
     "metadata": {},
     "output_type": "execute_result"
    },
    {
     "data": {
      "image/png": "[encoded data removed]",
      "text/plain": [
       "<Figure size 720x432 with 1 Axes>"
      ]
     },
     "metadata": {},
     "output_type": "display_data"
    }
   ],
   "source": [
    "eda.location__country_id.value_counts().plot(kind='bar')"
   ]
  },
  {
   "cell_type": "code",
   "execution_count": 116,
   "metadata": {
    "scrolled": false
   },
   "outputs": [
    {
     "data": {
      "text/plain": [
       "<matplotlib.axes._subplots.AxesSubplot at 0x23308f62d30>"
      ]
     },
     "execution_count": 116,
     "metadata": {},
     "output_type": "execute_result"
    },
    {
     "data": {
      "image/png": "[encoded data removed]",
      "text/plain": [
       "<Figure size 720x432 with 1 Axes>"
      ]
     },
     "metadata": {},
     "output_type": "display_data"
    }
   ],
   "source": [
    "eda.boxplot('target', 'price_range')"
   ]
  },
  {
   "cell_type": "markdown",
   "metadata": {},
   "source": [
    "From the above graph, we can understand that there are few restaurants that has high rating even when their price range is lower. Also, the boxplot for price range 1 is unevenly ditributed contributing to 0 raitngs."
   ]
  },
  {
   "cell_type": "markdown",
   "metadata": {},
   "source": [
    "[Go to Top](#top)"
   ]
  },
  {
   "cell_type": "markdown",
   "metadata": {},
   "source": [
    "<a id=\"ref\"></a>\n",
    "## *References*"
   ]
  },
  {
   "cell_type": "markdown",
   "metadata": {},
   "source": [
    "ML modelling, project flow, Tips and Best Practices - <br>**UC ML videos and workshops**<br>**Hands on Machine Learning using Scikit Learn and Tensorflow** book by **Aurelien Geron**.<br>\n",
    "\n",
    "Jupyter notebook editing tips - https://medium.com/ibm-data-science-experience/markdown-for-jupyter-notebooks-cheatsheet-386c05aeebed<br>\n",
    "\n",
    "Project Insights - https://rstudio-pubs-static.s3.amazonaws.com/296592_29cd90970f7f4e18958a215416803927.html<br>\n",
    "https://www.kaggle.com/lorenzopagliaro01/zomato-restaurants-analysis<br>\n",
    "https://www.analyticsindiamag.com/the-amazing-way-zomato-uses-data-science-for-success/<br>\n"
   ]
  }
 ],
 "metadata": {
  "kernelspec": {
   "display_name": "Python 3",
   "language": "python",
   "name": "python3"
  },
  "language_info": {
   "codemirror_mode": {
    "name": "ipython",
    "version": 3
   },
   "file_extension": ".py",
   "mimetype": "text/x-python",
   "name": "python",
   "nbconvert_exporter": "python",
   "pygments_lexer": "ipython3",
   "version": "3.7.4"
  }
 },
 "nbformat": 4,
 "nbformat_minor": 2
}
